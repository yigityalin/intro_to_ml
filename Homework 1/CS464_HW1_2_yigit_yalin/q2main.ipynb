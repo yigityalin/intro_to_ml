{
 "cells": [
  {
   "cell_type": "markdown",
   "id": "adaea8aa",
   "metadata": {},
   "source": [
    "## Import the required libraries"
   ]
  },
  {
   "cell_type": "code",
   "execution_count": 1,
   "id": "dedbd567",
   "metadata": {},
   "outputs": [],
   "source": [
    "from enum import IntEnum\n",
    "from pathlib import Path\n",
    "\n",
    "import matplotlib.pyplot as plt\n",
    "import numpy as np\n",
    "import pandas as pd\n",
    "%matplotlib inline"
   ]
  },
  {
   "cell_type": "markdown",
   "id": "10c9b9ea",
   "metadata": {},
   "source": [
    "# Question 1: The CS 464 Case"
   ]
  },
  {
   "cell_type": "markdown",
   "id": "b12b8145",
   "metadata": {},
   "source": [
    "## Enumerate the study habits and grades"
   ]
  },
  {
   "cell_type": "code",
   "execution_count": 2,
   "id": "8bee0f53",
   "metadata": {},
   "outputs": [],
   "source": [
    "class StudyHabits(IntEnum):\n",
    "    MOTIVATED = 0\n",
    "    UNMOTIVATED = 1"
   ]
  },
  {
   "cell_type": "code",
   "execution_count": 3,
   "id": "28cde79c",
   "metadata": {},
   "outputs": [],
   "source": [
    "class Grades(IntEnum):\n",
    "    HIGH = 0\n",
    "    LOW = 1\n",
    "    FAILING = 2"
   ]
  },
  {
   "cell_type": "markdown",
   "id": "dd1b2656",
   "metadata": {},
   "source": [
    "## Construct the probability matrix"
   ]
  },
  {
   "cell_type": "markdown",
   "id": "24592975",
   "metadata": {},
   "source": [
    "0.87 of the high grades are received by the motivated students.\n",
    "0.21 of the low grades are received by the motivated students.\n",
    "0.04 of the failing grades are received by the motivated students.\n",
    "\n",
    "These imply that\n",
    "0.13 of the high grades are received by the unmotivated students.\n",
    "0.79 of the low grades are received by the unmotivated students.\n",
    "0.96 of the failing grades are received by the unmotivated students.\n",
    "\n",
    "Multiplying these with the following probabilities will give us the ratios of all the probabilities.\n",
    "\n",
    "$$P(H) = 0.64$$\n",
    "$$P(L) = 0.21$$\n",
    "$$P(F) = 0.04$$\n",
    "\n",
    "The calculations can be seen on the following cell. The rows represent the grades and the columns represent the motivation of the student.\n",
    "\n",
    "Notice that the sum of elements in the same row give $P(H)$, $P(L)$, $P(F)$, respectively.\n",
    "\n",
    "The individual probabilities are obtained from the matrix with as following:\n",
    "\n",
    "P[The grade (H, L or F)][The motivation of the student (Motivated or Unmotivated)]"
   ]
  },
  {
   "cell_type": "code",
   "execution_count": 4,
   "id": "9bfcf1ea",
   "metadata": {},
   "outputs": [
    {
     "data": {
      "text/plain": [
       "array([[0.5568, 0.0832],\n",
       "       [0.0504, 0.1896],\n",
       "       [0.0048, 0.1152]])"
      ]
     },
     "execution_count": 4,
     "metadata": {},
     "output_type": "execute_result"
    }
   ],
   "source": [
    "P = np.empty(shape=(len(Grades), len(StudyHabits)))\n",
    "\n",
    "P[Grades.HIGH, StudyHabits.MOTIVATED] = 0.87\n",
    "P[Grades.LOW, StudyHabits.MOTIVATED] = 0.21\n",
    "P[Grades.FAILING, StudyHabits.MOTIVATED] = 0.04\n",
    "\n",
    "P[..., StudyHabits.UNMOTIVATED] = 1 - P[..., StudyHabits.MOTIVATED]\n",
    "    \n",
    "P[Grades.HIGH] *= 0.64\n",
    "P[Grades.LOW] *= 0.24\n",
    "P[Grades.FAILING] *= 0.12\n",
    "\n",
    "P"
   ]
  },
  {
   "cell_type": "markdown",
   "id": "54e0fdde",
   "metadata": {},
   "source": [
    "## Question 1.1: What is the probability that a student is motivated?"
   ]
  },
  {
   "cell_type": "markdown",
   "id": "9ae09275",
   "metadata": {},
   "source": [
    "$P(S_M)$"
   ]
  },
  {
   "cell_type": "code",
   "execution_count": 5,
   "id": "dcdf5c4b",
   "metadata": {},
   "outputs": [
    {
     "data": {
      "text/plain": [
       "0.612"
      ]
     },
     "execution_count": 5,
     "metadata": {},
     "output_type": "execute_result"
    }
   ],
   "source": [
    "P[..., StudyHabits.MOTIVATED].sum()"
   ]
  },
  {
   "cell_type": "markdown",
   "id": "4bea34d4",
   "metadata": {},
   "source": [
    "## Question 1.2: If a student is motivated, what is the probability that he/she will get a high grade?"
   ]
  },
  {
   "cell_type": "markdown",
   "id": "3e02d94a",
   "metadata": {},
   "source": [
    "$P(H|S_M) = \\dfrac{P(H, S_M)}{P(S_M)}$"
   ]
  },
  {
   "cell_type": "code",
   "execution_count": 6,
   "id": "65ea7ff2",
   "metadata": {},
   "outputs": [
    {
     "data": {
      "text/plain": [
       "0.9098039215686274"
      ]
     },
     "execution_count": 6,
     "metadata": {},
     "output_type": "execute_result"
    }
   ],
   "source": [
    "P[Grades.HIGH, StudyHabits.MOTIVATED] / P[..., StudyHabits.MOTIVATED].sum()"
   ]
  },
  {
   "cell_type": "markdown",
   "id": "29033c57",
   "metadata": {},
   "source": [
    "## Question 1.3: If a student is unmotivated, what is the probability that he/she will get a high grade?"
   ]
  },
  {
   "cell_type": "markdown",
   "id": "ffdd9d4b",
   "metadata": {},
   "source": [
    "$P(H|S_U) = \\dfrac{P(H, S_U)}{P(S_U)}$"
   ]
  },
  {
   "cell_type": "code",
   "execution_count": 7,
   "id": "998b2628",
   "metadata": {},
   "outputs": [
    {
     "data": {
      "text/plain": [
       "0.21443298969072166"
      ]
     },
     "execution_count": 7,
     "metadata": {},
     "output_type": "execute_result"
    }
   ],
   "source": [
    "P[Grades.HIGH, StudyHabits.UNMOTIVATED] / P[..., StudyHabits.UNMOTIVATED].sum()"
   ]
  },
  {
   "cell_type": "markdown",
   "id": "2be9f3b4",
   "metadata": {},
   "source": [
    "# Question 2: Sports News Classification"
   ]
  },
  {
   "cell_type": "code",
   "execution_count": 8,
   "id": "63a50512",
   "metadata": {},
   "outputs": [],
   "source": [
    "PROJECT_ROOT_DIR = Path().resolve()\n",
    "DATA_PATH = PROJECT_ROOT_DIR / 'dataset'"
   ]
  },
  {
   "cell_type": "code",
   "execution_count": 9,
   "id": "d66d94eb",
   "metadata": {},
   "outputs": [
    {
     "data": {
      "text/plain": [
       "['bbcsports_val.csv', 'bbcsports_train.csv']"
      ]
     },
     "execution_count": 9,
     "metadata": {},
     "output_type": "execute_result"
    }
   ],
   "source": [
    "[file.name for file in DATA_PATH.iterdir()]"
   ]
  },
  {
   "cell_type": "code",
   "execution_count": 10,
   "id": "f24b6fab",
   "metadata": {},
   "outputs": [],
   "source": [
    "TRAIN_DATA_PATH = DATA_PATH / 'bbcsports_train.csv'\n",
    "VALID_DATA_PATH = DATA_PATH / 'bbcsports_val.csv'"
   ]
  },
  {
   "cell_type": "code",
   "execution_count": 11,
   "id": "d9f886fb",
   "metadata": {},
   "outputs": [],
   "source": [
    "data_train = pd.read_csv(TRAIN_DATA_PATH)\n",
    "data_valid = pd.read_csv(VALID_DATA_PATH)"
   ]
  },
  {
   "cell_type": "code",
   "execution_count": 12,
   "id": "27da0b20",
   "metadata": {},
   "outputs": [
    {
     "data": {
      "text/html": [
       "<div>\n",
       "<style scoped>\n",
       "    .dataframe tbody tr th:only-of-type {\n",
       "        vertical-align: middle;\n",
       "    }\n",
       "\n",
       "    .dataframe tbody tr th {\n",
       "        vertical-align: top;\n",
       "    }\n",
       "\n",
       "    .dataframe thead th {\n",
       "        text-align: right;\n",
       "    }\n",
       "</style>\n",
       "<table border=\"1\" class=\"dataframe\">\n",
       "  <thead>\n",
       "    <tr style=\"text-align: right;\">\n",
       "      <th></th>\n",
       "      <th>claxton</th>\n",
       "      <th>hunt</th>\n",
       "      <th>first</th>\n",
       "      <th>major</th>\n",
       "      <th>medal</th>\n",
       "      <th>british</th>\n",
       "      <th>hurdler</th>\n",
       "      <th>sarah</th>\n",
       "      <th>confid</th>\n",
       "      <th>win</th>\n",
       "      <th>...</th>\n",
       "      <th>massu</th>\n",
       "      <th>mcenro</th>\n",
       "      <th>mauresmo</th>\n",
       "      <th>ameli</th>\n",
       "      <th>hip</th>\n",
       "      <th>fiveset</th>\n",
       "      <th>mario</th>\n",
       "      <th>ancic</th>\n",
       "      <th>lundgren</th>\n",
       "      <th>class_label</th>\n",
       "    </tr>\n",
       "  </thead>\n",
       "  <tbody>\n",
       "    <tr>\n",
       "      <th>0</th>\n",
       "      <td>0</td>\n",
       "      <td>0</td>\n",
       "      <td>0</td>\n",
       "      <td>0</td>\n",
       "      <td>0</td>\n",
       "      <td>0</td>\n",
       "      <td>0</td>\n",
       "      <td>0</td>\n",
       "      <td>0</td>\n",
       "      <td>0</td>\n",
       "      <td>...</td>\n",
       "      <td>0</td>\n",
       "      <td>0</td>\n",
       "      <td>0</td>\n",
       "      <td>0</td>\n",
       "      <td>0</td>\n",
       "      <td>0</td>\n",
       "      <td>0</td>\n",
       "      <td>0</td>\n",
       "      <td>0</td>\n",
       "      <td>3</td>\n",
       "    </tr>\n",
       "    <tr>\n",
       "      <th>1</th>\n",
       "      <td>0</td>\n",
       "      <td>0</td>\n",
       "      <td>1</td>\n",
       "      <td>0</td>\n",
       "      <td>0</td>\n",
       "      <td>0</td>\n",
       "      <td>0</td>\n",
       "      <td>0</td>\n",
       "      <td>0</td>\n",
       "      <td>1</td>\n",
       "      <td>...</td>\n",
       "      <td>0</td>\n",
       "      <td>0</td>\n",
       "      <td>0</td>\n",
       "      <td>0</td>\n",
       "      <td>0</td>\n",
       "      <td>0</td>\n",
       "      <td>0</td>\n",
       "      <td>0</td>\n",
       "      <td>0</td>\n",
       "      <td>1</td>\n",
       "    </tr>\n",
       "    <tr>\n",
       "      <th>2</th>\n",
       "      <td>0</td>\n",
       "      <td>0</td>\n",
       "      <td>1</td>\n",
       "      <td>0</td>\n",
       "      <td>0</td>\n",
       "      <td>0</td>\n",
       "      <td>0</td>\n",
       "      <td>0</td>\n",
       "      <td>0</td>\n",
       "      <td>2</td>\n",
       "      <td>...</td>\n",
       "      <td>0</td>\n",
       "      <td>0</td>\n",
       "      <td>0</td>\n",
       "      <td>0</td>\n",
       "      <td>0</td>\n",
       "      <td>0</td>\n",
       "      <td>0</td>\n",
       "      <td>0</td>\n",
       "      <td>0</td>\n",
       "      <td>2</td>\n",
       "    </tr>\n",
       "    <tr>\n",
       "      <th>3</th>\n",
       "      <td>0</td>\n",
       "      <td>0</td>\n",
       "      <td>0</td>\n",
       "      <td>2</td>\n",
       "      <td>0</td>\n",
       "      <td>0</td>\n",
       "      <td>0</td>\n",
       "      <td>0</td>\n",
       "      <td>0</td>\n",
       "      <td>0</td>\n",
       "      <td>...</td>\n",
       "      <td>0</td>\n",
       "      <td>0</td>\n",
       "      <td>0</td>\n",
       "      <td>0</td>\n",
       "      <td>0</td>\n",
       "      <td>0</td>\n",
       "      <td>0</td>\n",
       "      <td>0</td>\n",
       "      <td>0</td>\n",
       "      <td>2</td>\n",
       "    </tr>\n",
       "    <tr>\n",
       "      <th>4</th>\n",
       "      <td>0</td>\n",
       "      <td>0</td>\n",
       "      <td>0</td>\n",
       "      <td>0</td>\n",
       "      <td>0</td>\n",
       "      <td>0</td>\n",
       "      <td>0</td>\n",
       "      <td>0</td>\n",
       "      <td>0</td>\n",
       "      <td>1</td>\n",
       "      <td>...</td>\n",
       "      <td>0</td>\n",
       "      <td>0</td>\n",
       "      <td>0</td>\n",
       "      <td>0</td>\n",
       "      <td>0</td>\n",
       "      <td>0</td>\n",
       "      <td>0</td>\n",
       "      <td>0</td>\n",
       "      <td>0</td>\n",
       "      <td>2</td>\n",
       "    </tr>\n",
       "  </tbody>\n",
       "</table>\n",
       "<p>5 rows × 4614 columns</p>\n",
       "</div>"
      ],
      "text/plain": [
       "   claxton  hunt  first  major  medal  british  hurdler  sarah  confid  win  \\\n",
       "0        0     0      0      0      0        0        0      0       0    0   \n",
       "1        0     0      1      0      0        0        0      0       0    1   \n",
       "2        0     0      1      0      0        0        0      0       0    2   \n",
       "3        0     0      0      2      0        0        0      0       0    0   \n",
       "4        0     0      0      0      0        0        0      0       0    1   \n",
       "\n",
       "   ...  massu  mcenro  mauresmo  ameli  hip  fiveset  mario  ancic  lundgren  \\\n",
       "0  ...      0       0         0      0    0        0      0      0         0   \n",
       "1  ...      0       0         0      0    0        0      0      0         0   \n",
       "2  ...      0       0         0      0    0        0      0      0         0   \n",
       "3  ...      0       0         0      0    0        0      0      0         0   \n",
       "4  ...      0       0         0      0    0        0      0      0         0   \n",
       "\n",
       "   class_label  \n",
       "0            3  \n",
       "1            1  \n",
       "2            2  \n",
       "3            2  \n",
       "4            2  \n",
       "\n",
       "[5 rows x 4614 columns]"
      ]
     },
     "execution_count": 12,
     "metadata": {},
     "output_type": "execute_result"
    }
   ],
   "source": [
    "data_train.head()"
   ]
  },
  {
   "cell_type": "code",
   "execution_count": 13,
   "id": "ee121c70",
   "metadata": {},
   "outputs": [
    {
     "data": {
      "text/html": [
       "<div>\n",
       "<style scoped>\n",
       "    .dataframe tbody tr th:only-of-type {\n",
       "        vertical-align: middle;\n",
       "    }\n",
       "\n",
       "    .dataframe tbody tr th {\n",
       "        vertical-align: top;\n",
       "    }\n",
       "\n",
       "    .dataframe thead th {\n",
       "        text-align: right;\n",
       "    }\n",
       "</style>\n",
       "<table border=\"1\" class=\"dataframe\">\n",
       "  <thead>\n",
       "    <tr style=\"text-align: right;\">\n",
       "      <th></th>\n",
       "      <th>claxton</th>\n",
       "      <th>hunt</th>\n",
       "      <th>first</th>\n",
       "      <th>major</th>\n",
       "      <th>medal</th>\n",
       "      <th>british</th>\n",
       "      <th>hurdler</th>\n",
       "      <th>sarah</th>\n",
       "      <th>confid</th>\n",
       "      <th>win</th>\n",
       "      <th>...</th>\n",
       "      <th>massu</th>\n",
       "      <th>mcenro</th>\n",
       "      <th>mauresmo</th>\n",
       "      <th>ameli</th>\n",
       "      <th>hip</th>\n",
       "      <th>fiveset</th>\n",
       "      <th>mario</th>\n",
       "      <th>ancic</th>\n",
       "      <th>lundgren</th>\n",
       "      <th>class_label</th>\n",
       "    </tr>\n",
       "  </thead>\n",
       "  <tbody>\n",
       "    <tr>\n",
       "      <th>0</th>\n",
       "      <td>0</td>\n",
       "      <td>0</td>\n",
       "      <td>0</td>\n",
       "      <td>0</td>\n",
       "      <td>0</td>\n",
       "      <td>0</td>\n",
       "      <td>0</td>\n",
       "      <td>0</td>\n",
       "      <td>0</td>\n",
       "      <td>0</td>\n",
       "      <td>...</td>\n",
       "      <td>0</td>\n",
       "      <td>0</td>\n",
       "      <td>0</td>\n",
       "      <td>0</td>\n",
       "      <td>0</td>\n",
       "      <td>0</td>\n",
       "      <td>0</td>\n",
       "      <td>0</td>\n",
       "      <td>0</td>\n",
       "      <td>4</td>\n",
       "    </tr>\n",
       "    <tr>\n",
       "      <th>1</th>\n",
       "      <td>0</td>\n",
       "      <td>0</td>\n",
       "      <td>0</td>\n",
       "      <td>0</td>\n",
       "      <td>0</td>\n",
       "      <td>0</td>\n",
       "      <td>0</td>\n",
       "      <td>0</td>\n",
       "      <td>0</td>\n",
       "      <td>0</td>\n",
       "      <td>...</td>\n",
       "      <td>0</td>\n",
       "      <td>0</td>\n",
       "      <td>0</td>\n",
       "      <td>0</td>\n",
       "      <td>0</td>\n",
       "      <td>0</td>\n",
       "      <td>0</td>\n",
       "      <td>0</td>\n",
       "      <td>0</td>\n",
       "      <td>2</td>\n",
       "    </tr>\n",
       "    <tr>\n",
       "      <th>2</th>\n",
       "      <td>0</td>\n",
       "      <td>0</td>\n",
       "      <td>8</td>\n",
       "      <td>1</td>\n",
       "      <td>0</td>\n",
       "      <td>0</td>\n",
       "      <td>0</td>\n",
       "      <td>0</td>\n",
       "      <td>0</td>\n",
       "      <td>0</td>\n",
       "      <td>...</td>\n",
       "      <td>0</td>\n",
       "      <td>0</td>\n",
       "      <td>0</td>\n",
       "      <td>0</td>\n",
       "      <td>0</td>\n",
       "      <td>0</td>\n",
       "      <td>0</td>\n",
       "      <td>0</td>\n",
       "      <td>0</td>\n",
       "      <td>1</td>\n",
       "    </tr>\n",
       "    <tr>\n",
       "      <th>3</th>\n",
       "      <td>0</td>\n",
       "      <td>0</td>\n",
       "      <td>0</td>\n",
       "      <td>0</td>\n",
       "      <td>0</td>\n",
       "      <td>0</td>\n",
       "      <td>0</td>\n",
       "      <td>0</td>\n",
       "      <td>0</td>\n",
       "      <td>0</td>\n",
       "      <td>...</td>\n",
       "      <td>0</td>\n",
       "      <td>0</td>\n",
       "      <td>0</td>\n",
       "      <td>0</td>\n",
       "      <td>0</td>\n",
       "      <td>0</td>\n",
       "      <td>0</td>\n",
       "      <td>0</td>\n",
       "      <td>0</td>\n",
       "      <td>2</td>\n",
       "    </tr>\n",
       "    <tr>\n",
       "      <th>4</th>\n",
       "      <td>0</td>\n",
       "      <td>0</td>\n",
       "      <td>1</td>\n",
       "      <td>0</td>\n",
       "      <td>0</td>\n",
       "      <td>0</td>\n",
       "      <td>0</td>\n",
       "      <td>0</td>\n",
       "      <td>0</td>\n",
       "      <td>0</td>\n",
       "      <td>...</td>\n",
       "      <td>0</td>\n",
       "      <td>0</td>\n",
       "      <td>0</td>\n",
       "      <td>0</td>\n",
       "      <td>0</td>\n",
       "      <td>0</td>\n",
       "      <td>0</td>\n",
       "      <td>0</td>\n",
       "      <td>0</td>\n",
       "      <td>4</td>\n",
       "    </tr>\n",
       "  </tbody>\n",
       "</table>\n",
       "<p>5 rows × 4614 columns</p>\n",
       "</div>"
      ],
      "text/plain": [
       "   claxton  hunt  first  major  medal  british  hurdler  sarah  confid  win  \\\n",
       "0        0     0      0      0      0        0        0      0       0    0   \n",
       "1        0     0      0      0      0        0        0      0       0    0   \n",
       "2        0     0      8      1      0        0        0      0       0    0   \n",
       "3        0     0      0      0      0        0        0      0       0    0   \n",
       "4        0     0      1      0      0        0        0      0       0    0   \n",
       "\n",
       "   ...  massu  mcenro  mauresmo  ameli  hip  fiveset  mario  ancic  lundgren  \\\n",
       "0  ...      0       0         0      0    0        0      0      0         0   \n",
       "1  ...      0       0         0      0    0        0      0      0         0   \n",
       "2  ...      0       0         0      0    0        0      0      0         0   \n",
       "3  ...      0       0         0      0    0        0      0      0         0   \n",
       "4  ...      0       0         0      0    0        0      0      0         0   \n",
       "\n",
       "   class_label  \n",
       "0            4  \n",
       "1            2  \n",
       "2            1  \n",
       "3            2  \n",
       "4            4  \n",
       "\n",
       "[5 rows x 4614 columns]"
      ]
     },
     "execution_count": 13,
     "metadata": {},
     "output_type": "execute_result"
    }
   ],
   "source": [
    "data_valid.head()"
   ]
  },
  {
   "cell_type": "code",
   "execution_count": 14,
   "id": "1661ffad",
   "metadata": {},
   "outputs": [
    {
     "data": {
      "text/plain": [
       "(552, 185)"
      ]
     },
     "execution_count": 14,
     "metadata": {},
     "output_type": "execute_result"
    }
   ],
   "source": [
    "len(data_train), len(data_valid)"
   ]
  },
  {
   "cell_type": "markdown",
   "id": "4024cd72",
   "metadata": {},
   "source": [
    "## Question 2.1.1: How are the classes distributed in the training set? Give the number of instances in each class with a suitable plot. Any plot that shows the class distribution is acceptable."
   ]
  },
  {
   "cell_type": "code",
   "execution_count": 15,
   "id": "d58fc93f",
   "metadata": {},
   "outputs": [
    {
     "data": {
      "text/plain": [
       "class_label\n",
       "2              198\n",
       "3              114\n",
       "1               86\n",
       "0               77\n",
       "4               77\n",
       "dtype: int64"
      ]
     },
     "execution_count": 15,
     "metadata": {},
     "output_type": "execute_result"
    }
   ],
   "source": [
    "data_train[['class_label']].value_counts(sort=True)"
   ]
  },
  {
   "cell_type": "markdown",
   "id": "07143416",
   "metadata": {},
   "source": [
    "We can see that the number of instances that belong to the second class approximately twice of the number of instances for each of the other classes."
   ]
  },
  {
   "cell_type": "code",
   "execution_count": 16,
   "id": "29a0e53c",
   "metadata": {},
   "outputs": [
    {
     "data": {
      "image/png": "[encoded data removed]",
      "text/plain": [
       "<Figure size 432x288 with 1 Axes>"
      ]
     },
     "metadata": {
      "needs_background": "light"
     },
     "output_type": "display_data"
    }
   ],
   "source": [
    "data_train[['class_label']].value_counts(sort=False).plot(kind='bar')\n",
    "plt.title('Class Distribution')\n",
    "plt.xticks(ticks=list(range(5)), labels=list(range(5)))\n",
    "plt.xlabel('Classes')\n",
    "plt.ylabel('Number of instances')\n",
    "plt.show()"
   ]
  },
  {
   "cell_type": "markdown",
   "id": "38464377",
   "metadata": {},
   "source": [
    "## Question 2.1.2: Is the training set balanced or skewed towards one of the classes? Do you think having an imbalanced training set affects your model? If yes, please explain how it affects the Naive Bayes model and propose a possible solution if needed."
   ]
  },
  {
   "cell_type": "markdown",
   "id": "bd96fc25",
   "metadata": {},
   "source": [
    "The training set is imbalanced though the imbalance is not extreme. The class 2 is dominant in the training set, and this causes bias in the weights of the Naive Bayes classifier. If the imbalanced class distribution in the training set does not match with the true class distribution, the priors $P(Y = y_k)$ will be misleading, that is the probability of the minority class will be very small because of the imbalance. In these cases, ignoring the prior might give better results.\n",
    "\n",
    "In addition, if the number of training examples are not sufficient, the likelihoods can also be misleading. There might be no samples that represent a feature for a class, and thus, the model will give zero probability to new samples with that feature being in that class. In these cases, techniques like Laplace smoothing might prove useful to give a small probability (instead of zero) of a sample being in the underrepresented class.\n",
    "\n",
    "Though imbalanced dataset does usually reduce the model performance, it is still possible that the model might perform on the true distribution of the data (assuming that the dataset represents the true distribution). Therefore, training the model without dealing with the imbalance and checking whether the model generalized well is an option.\n",
    "\n",
    "If it does not generalize well on the true distribution of the data, upsampling the minority class and downsampling the majority class are two options. These techniques reduces the difference of the proportions of the data between the classes, thereby diminishing the imbalance problem. Another option is to synthesize new samples for minority class. These techniques might require additional adjustments to the algorithm. For example, for downsampling method, it might be useful to upweight the downsampled class, that is to put more importance on the samples of downsampled class."
   ]
  },
  {
   "cell_type": "markdown",
   "id": "577bf6b1",
   "metadata": {},
   "source": [
    "## Question 2.1.3: Does the validation set, and the training set have similar data distributions? Regardless of the answer, if we had a bad split where validation set and the training set have different characteristics, which term in the Naive Bayes algorithm would be misleading?"
   ]
  },
  {
   "cell_type": "code",
   "execution_count": 17,
   "id": "54213cca",
   "metadata": {},
   "outputs": [
    {
     "data": {
      "text/html": [
       "<div>\n",
       "<style scoped>\n",
       "    .dataframe tbody tr th:only-of-type {\n",
       "        vertical-align: middle;\n",
       "    }\n",
       "\n",
       "    .dataframe tbody tr th {\n",
       "        vertical-align: top;\n",
       "    }\n",
       "\n",
       "    .dataframe thead th {\n",
       "        text-align: right;\n",
       "    }\n",
       "</style>\n",
       "<table border=\"1\" class=\"dataframe\">\n",
       "  <thead>\n",
       "    <tr style=\"text-align: right;\">\n",
       "      <th></th>\n",
       "      <th>Train Set</th>\n",
       "      <th>Validation Set</th>\n",
       "    </tr>\n",
       "    <tr>\n",
       "      <th>class_label</th>\n",
       "      <th></th>\n",
       "      <th></th>\n",
       "    </tr>\n",
       "  </thead>\n",
       "  <tbody>\n",
       "    <tr>\n",
       "      <th>0</th>\n",
       "      <td>0.139493</td>\n",
       "      <td>0.129730</td>\n",
       "    </tr>\n",
       "    <tr>\n",
       "      <th>1</th>\n",
       "      <td>0.155797</td>\n",
       "      <td>0.205405</td>\n",
       "    </tr>\n",
       "    <tr>\n",
       "      <th>2</th>\n",
       "      <td>0.358696</td>\n",
       "      <td>0.362162</td>\n",
       "    </tr>\n",
       "    <tr>\n",
       "      <th>3</th>\n",
       "      <td>0.206522</td>\n",
       "      <td>0.178378</td>\n",
       "    </tr>\n",
       "    <tr>\n",
       "      <th>4</th>\n",
       "      <td>0.139493</td>\n",
       "      <td>0.124324</td>\n",
       "    </tr>\n",
       "  </tbody>\n",
       "</table>\n",
       "</div>"
      ],
      "text/plain": [
       "             Train Set  Validation Set\n",
       "class_label                           \n",
       "0             0.139493        0.129730\n",
       "1             0.155797        0.205405\n",
       "2             0.358696        0.362162\n",
       "3             0.206522        0.178378\n",
       "4             0.139493        0.124324"
      ]
     },
     "execution_count": 17,
     "metadata": {},
     "output_type": "execute_result"
    }
   ],
   "source": [
    "train_dist = data_train[['class_label']].value_counts(sort=False) / len(data_train)\n",
    "test_dist = data_valid[['class_label']].value_counts(sort=False) / len(data_valid)\n",
    "\n",
    "dist = pd.concat([train_dist, test_dist], axis=1).rename({0: 'Train Set', 1: 'Validation Set'}, axis=1)\n",
    "\n",
    "dist"
   ]
  },
  {
   "cell_type": "code",
   "execution_count": 18,
   "id": "267c8e51",
   "metadata": {},
   "outputs": [
    {
     "data": {
      "image/png": "[encoded data removed]",
      "text/plain": [
       "<Figure size 432x288 with 1 Axes>"
      ]
     },
     "metadata": {
      "needs_background": "light"
     },
     "output_type": "display_data"
    }
   ],
   "source": [
    "dist.plot(kind='bar')\n",
    "plt.title('Class Distributions in Train and Validation Sets')\n",
    "plt.xticks(ticks=list(range(5)), labels=list(range(5)))\n",
    "plt.xlabel('Classes')\n",
    "plt.ylabel('Number of instances')\n",
    "plt.show()"
   ]
  },
  {
   "cell_type": "markdown",
   "id": "7e3b57f9",
   "metadata": {},
   "source": [
    "We can see that the class distributions of train and validation sets are similar."
   ]
  },
  {
   "cell_type": "markdown",
   "id": "6abcb35f",
   "metadata": {},
   "source": [
    "The Naive Bayes classifier uses the proportion of each class $P(Y = y_k)$ for the predictions. If the class distributions of train and validation sets are not similar, this will mislead the classifier since the train dataset does not represent the true class distribution as it is corrupted during the split of the dataset.\n",
    "\n",
    "Also, if the number of training examples are not sufficient, the likelihoods can also be misleading as mentioned in the previous question. Some output probabilities of the model might be zero because of the training samples does not contain a class with one (or more) of the features."
   ]
  },
  {
   "cell_type": "markdown",
   "id": "72cbf607",
   "metadata": {},
   "source": [
    "## Question 2.1.4: If your dataset is skewed towards one of the classes, does this affect your reported accuracy? If yes, to what extent the reported accuracy is misleading in such an unbalanced dataset?"
   ]
  },
  {
   "cell_type": "markdown",
   "id": "cdc33fdb",
   "metadata": {},
   "source": [
    "Though the accuracy metric is easy-to-interpret, it is not well-suited to assess the model performance on imbalanced datasets. For example, if the distribution of the data is 99%-1%, a model that predicts the majority class all the time achieves 99% accuracy. However, this model is not useful since it cannot correctly classify any examples from the minority class. Thus, accuracy is not a good metric for imbalanced classification tasks. Metrics like F1-score and F2-score (F-$\\beta$ score in general) are better for these tasks since take the class imbalance into the account while evaluating the results. Plotting the confusion matrix might also be useful for imbalanced classification tasks to see how the model works on the minority class."
   ]
  },
  {
   "cell_type": "markdown",
   "id": "31388e00",
   "metadata": {},
   "source": [
    "## Create the Naive Bayes Classifier class for Question 2.2 and Question 2.3"
   ]
  },
  {
   "cell_type": "markdown",
   "id": "f9f1fad7",
   "metadata": {},
   "source": [
    "**This base class implements all the basic functionality of the Naive Bayes classifier.**\n",
    "\n",
    "**For estimator = \"mle\", the classifier calculates maximum likelihood estimates (for Question 2).**\n",
    "\n",
    "**For estimator = \"map\", the classifier calculates maximum a posteriori estimates (for Question 3). Though the question only wants the $\\alpha = 1$ case, the following class implementation supports any $\\alpha > 0$**\n",
    "\n",
    "**Note that the only difference is the calculation of the likelihood. MAP estimation requires the addition of a some constant $\\alpha$ to the number of occurences, whereas MLE does not have this addition of a constant.**"
   ]
  },
  {
   "cell_type": "markdown",
   "id": "3612ffab",
   "metadata": {},
   "source": [
    "**calculate_pi function calculates the probabilities that any particular document belongs to the class $y_k \\: \\forall k\\in\\{0, 1, 2, 3, 4\\}$**"
   ]
  },
  {
   "cell_type": "code",
   "execution_count": 19,
   "id": "b997b122",
   "metadata": {},
   "outputs": [],
   "source": [
    "def calculate_pi(data, label='class_label'):\n",
    "    probs = data[[label]].value_counts(sort=False) / len(data)\n",
    "    return np.log(probs.to_numpy())"
   ]
  },
  {
   "cell_type": "markdown",
   "id": "82aff528",
   "metadata": {},
   "source": [
    "**calculate_theta function calculates the likelihoods for MLE if $\\alpha = 0$ and for MAP if $\\alpha > 0$.**\n",
    "\n",
    "**The $-\\infty$ values are converted to a very small number for calculations by using np.nan_to_num function. The following cells illustrates how the function behaves for $-\\infty$:**"
   ]
  },
  {
   "cell_type": "code",
   "execution_count": 20,
   "id": "509b2c1b",
   "metadata": {},
   "outputs": [
    {
     "data": {
      "text/plain": [
       "-1.7976931348623157e+308"
      ]
     },
     "execution_count": 20,
     "metadata": {},
     "output_type": "execute_result"
    }
   ],
   "source": [
    "np.nan_to_num(-np.inf)"
   ]
  },
  {
   "cell_type": "code",
   "execution_count": 21,
   "id": "8ba2eded",
   "metadata": {},
   "outputs": [],
   "source": [
    "def calculate_theta(data, label='class_label', alpha=0):\n",
    "    class_word_counts = data.groupby(by=label).sum() + alpha\n",
    "    total_word_counts = class_word_counts.sum(axis=1)\n",
    "    probs = class_word_counts.T / total_word_counts\n",
    "    with np.errstate(divide='ignore'):\n",
    "        logprobs = np.log(np.asarray(probs))\n",
    "    logprobs = np.nan_to_num(logprobs)\n",
    "    return logprobs"
   ]
  },
  {
   "cell_type": "code",
   "execution_count": 22,
   "id": "5e7f80a4",
   "metadata": {},
   "outputs": [],
   "source": [
    "class NaiveBayesClassifier:\n",
    "    def __init__(self, estimator, alpha=None):\n",
    "        estimator = estimator.lower()\n",
    "\n",
    "        self._pi = None\n",
    "        self._theta = None\n",
    "        if estimator != 'mle' and estimator != 'map':\n",
    "            raise ValueError('Only MLE and MAP are supported.')\n",
    "        if estimator == 'map':\n",
    "            if alpha is None:\n",
    "                raise ValueError('You have to specify alpha if the estimator is MAP.')\n",
    "            elif alpha < 0:\n",
    "                raise ValueError('alpha must be larger than 0.')\n",
    "        self.estimator = estimator\n",
    "        self.alpha = alpha if estimator == 'map' else 0\n",
    "    \n",
    "    @property\n",
    "    def pi(self):\n",
    "        return self._pi\n",
    "    \n",
    "    @property\n",
    "    def theta(self):\n",
    "        return self._theta\n",
    "    \n",
    "    def __str__(self):\n",
    "        if self.estimator == 'mle':\n",
    "            return f'NaiveBayesClassifier(estimator={self.estimator})'\n",
    "        elif self.estimator == 'map':\n",
    "            return f'NaiveBayesClassifier(estimator={self.estimator}, alpha={self.alpha})'\n",
    "        else:\n",
    "            return NotImplementedError()\n",
    "        \n",
    "    def __repr__(self):\n",
    "        return str(self)\n",
    "    \n",
    "    def fit(self, data, label='class_label'):\n",
    "        self._pi = calculate_pi(data, label)\n",
    "        self._theta = calculate_theta(data, label, alpha=self.alpha)\n",
    "        return self\n",
    "    \n",
    "    def predict(self, data, label='class_label'):\n",
    "        scores = np.asarray(self.get_scores(data, label))\n",
    "        return scores.argmax(axis=1)\n",
    "        \n",
    "    def get_scores(self, data, label='class_label'):\n",
    "        if self.pi is None or self.theta is None:\n",
    "            raise RuntimeError('The model is not fit.')\n",
    "        return self.pi + data.drop(label, axis=1) @ self.theta\n",
    "    \n",
    "    def evaluate(self, data, label='class_label'):\n",
    "        preds = self.predict(data, label)\n",
    "        labels = data[label]\n",
    "        return np.mean(preds == labels)\n",
    "    \n",
    "    def confusion_matrix(self, data, label='class_label'):\n",
    "        labels = data[label]\n",
    "        n_classes = labels.nunique()\n",
    "        preds = self.predict(data, label)\n",
    "        \n",
    "        cm = np.zeros(shape=(n_classes, n_classes))\n",
    "        for true, pred in zip(labels, preds):\n",
    "            cm[true][pred] += 1\n",
    "        \n",
    "        return cm"
   ]
  },
  {
   "cell_type": "markdown",
   "id": "a2d83bad",
   "metadata": {},
   "source": [
    "## Question 2.2: Train a Multinomial Naive Bayes model on the training set and evaluate your model on the validation set given. Find and report the accuracy and the confusion matrix for the validation set, as well as how many wrong predictions were made."
   ]
  },
  {
   "cell_type": "markdown",
   "id": "a25ecef0",
   "metadata": {},
   "source": [
    "### Create a Naive Bayes classifier that uses maximum likelihood estimator"
   ]
  },
  {
   "cell_type": "code",
   "execution_count": 23,
   "id": "238e0da9",
   "metadata": {},
   "outputs": [],
   "source": [
    "nb_mle = NaiveBayesClassifier(estimator='mle')"
   ]
  },
  {
   "cell_type": "markdown",
   "id": "f0bdb92b",
   "metadata": {},
   "source": [
    "### Fit the model"
   ]
  },
  {
   "cell_type": "code",
   "execution_count": 24,
   "id": "c9d7cbb7",
   "metadata": {},
   "outputs": [
    {
     "data": {
      "text/plain": [
       "NaiveBayesClassifier(estimator=mle)"
      ]
     },
     "execution_count": 24,
     "metadata": {},
     "output_type": "execute_result"
    }
   ],
   "source": [
    "nb_mle.fit(data_train)"
   ]
  },
  {
   "cell_type": "markdown",
   "id": "73cef138",
   "metadata": {},
   "source": [
    "### Predict the classes for validation dataset"
   ]
  },
  {
   "cell_type": "code",
   "execution_count": 25,
   "id": "7a4fd250",
   "metadata": {},
   "outputs": [
    {
     "data": {
      "text/plain": [
       "array([0, 0, 0, 0, 4, 0, 0, 0, 2, 2])"
      ]
     },
     "execution_count": 25,
     "metadata": {},
     "output_type": "execute_result"
    }
   ],
   "source": [
    "valid_pred_mle = nb_mle.predict(data_valid)\n",
    "valid_pred_mle[:10]"
   ]
  },
  {
   "cell_type": "markdown",
   "id": "543bdbec",
   "metadata": {},
   "source": [
    "### Evaluate the model by calculating prediction accuracy"
   ]
  },
  {
   "cell_type": "code",
   "execution_count": 26,
   "id": "15ec8967",
   "metadata": {},
   "outputs": [
    {
     "data": {
      "text/plain": [
       "0.31351351351351353"
      ]
     },
     "execution_count": 26,
     "metadata": {},
     "output_type": "execute_result"
    }
   ],
   "source": [
    "nb_mle.evaluate(data_valid)"
   ]
  },
  {
   "cell_type": "markdown",
   "id": "13467ad4",
   "metadata": {},
   "source": [
    "### Create the confusion matrix"
   ]
  },
  {
   "cell_type": "code",
   "execution_count": 27,
   "id": "cc3bcfc4",
   "metadata": {},
   "outputs": [
    {
     "data": {
      "text/plain": [
       "array([[24.,  0.,  0.,  0.,  0.],\n",
       "       [33.,  5.,  0.,  0.,  0.],\n",
       "       [45.,  0., 22.,  0.,  0.],\n",
       "       [30.,  0.,  0.,  3.,  0.],\n",
       "       [19.,  0.,  0.,  0.,  4.]])"
      ]
     },
     "execution_count": 27,
     "metadata": {},
     "output_type": "execute_result"
    }
   ],
   "source": [
    "nb_mle.confusion_matrix(data_valid)"
   ]
  },
  {
   "cell_type": "markdown",
   "id": "dd050f37",
   "metadata": {},
   "source": [
    "**The low accuracy of this model is because of the zeros in the training set. When the model encounters a sample with a word W that it has not previously seen for a class C, the model gives zero probability to the case that the sample belongs to the class C. However, this might not be the case. Since there are many zero entries in the feature dataset, the model gives zero probability to those samples belonging to a class. Thus, many of the classes are misclassified as class 0 as the classifies the lower class in order in the case of a tie. This is also explained in Question 2.4.**"
   ]
  },
  {
   "cell_type": "markdown",
   "id": "e7257def",
   "metadata": {},
   "source": [
    "## Question 2.3: Extend your classifier so that it can compute a MAP estimate of θ parameters using a fair Dirichlet prior."
   ]
  },
  {
   "cell_type": "markdown",
   "id": "35155a68",
   "metadata": {},
   "source": [
    "### Create a Naive Bayes classifier that uses maximum a posteriori estimator using a Dirichlet prior with $\\alpha = 1$"
   ]
  },
  {
   "cell_type": "code",
   "execution_count": 28,
   "id": "61398750",
   "metadata": {},
   "outputs": [],
   "source": [
    "nb_map = NaiveBayesClassifier(estimator='map', alpha=1)"
   ]
  },
  {
   "cell_type": "markdown",
   "id": "7202c0ba",
   "metadata": {},
   "source": [
    "### Fit the model"
   ]
  },
  {
   "cell_type": "code",
   "execution_count": 29,
   "id": "03970a1e",
   "metadata": {},
   "outputs": [
    {
     "data": {
      "text/plain": [
       "NaiveBayesClassifier(estimator=map, alpha=1)"
      ]
     },
     "execution_count": 29,
     "metadata": {},
     "output_type": "execute_result"
    }
   ],
   "source": [
    "nb_map.fit(data_train)"
   ]
  },
  {
   "cell_type": "markdown",
   "id": "06f2a3c2",
   "metadata": {},
   "source": [
    "### Predict the classes for validation dataset"
   ]
  },
  {
   "cell_type": "code",
   "execution_count": 30,
   "id": "cc777ec8",
   "metadata": {},
   "outputs": [
    {
     "data": {
      "text/plain": [
       "array([4, 2, 1, 2, 4, 0, 0, 1, 2, 2, 1, 3, 3, 1, 0, 3, 1, 2, 3, 3, 3, 1,\n",
       "       2, 1, 3, 2, 3, 4, 3, 2, 3, 2, 1, 1, 3, 2, 2, 1, 2, 1, 2, 0, 1, 4,\n",
       "       3, 4, 4, 4, 2, 2, 2, 4, 2, 4, 0, 1, 0, 1, 2, 4, 0, 0, 2, 0, 3, 2,\n",
       "       1, 0, 2, 3, 0, 4, 0, 0, 3, 1, 2, 2, 4, 2, 2, 2, 2, 2, 3, 4, 2, 2,\n",
       "       4, 0, 2, 0, 2, 4, 3, 2, 1, 1, 0, 1, 2, 2, 2, 1, 2, 1, 1, 1, 1, 3,\n",
       "       2, 1, 4, 0, 3, 2, 2, 3, 2, 2, 1, 3, 0, 1, 2, 3, 2, 3, 1, 1, 4, 2,\n",
       "       1, 3, 4, 3, 1, 2, 2, 3, 2, 3, 2, 2, 4, 3, 0, 2, 3, 4, 3, 3, 3, 2,\n",
       "       1, 2, 0, 2, 2, 2, 0, 3, 2, 2, 3, 2, 2, 1, 2, 0, 3, 1, 1, 2, 0, 0,\n",
       "       4, 2, 2, 3, 2, 0, 4, 2, 2])"
      ]
     },
     "execution_count": 30,
     "metadata": {},
     "output_type": "execute_result"
    }
   ],
   "source": [
    "nb_map.predict(data_valid)"
   ]
  },
  {
   "cell_type": "markdown",
   "id": "05337b8b",
   "metadata": {},
   "source": [
    "### Evaluate the model by calculating prediction accuracy"
   ]
  },
  {
   "cell_type": "code",
   "execution_count": 31,
   "id": "e98c0591",
   "metadata": {},
   "outputs": [
    {
     "data": {
      "text/plain": [
       "0.972972972972973"
      ]
     },
     "execution_count": 31,
     "metadata": {},
     "output_type": "execute_result"
    }
   ],
   "source": [
    "nb_map.evaluate(data_valid)"
   ]
  },
  {
   "cell_type": "markdown",
   "id": "9afa841b",
   "metadata": {},
   "source": [
    "### Create the confusion matrix"
   ]
  },
  {
   "cell_type": "code",
   "execution_count": 32,
   "id": "2131aa74",
   "metadata": {},
   "outputs": [
    {
     "data": {
      "text/plain": [
       "array([[24.,  0.,  0.,  0.,  0.],\n",
       "       [ 0., 35.,  1.,  2.,  0.],\n",
       "       [ 0.,  0., 66.,  1.,  0.],\n",
       "       [ 0.,  0.,  0., 33.,  0.],\n",
       "       [ 1.,  0.,  0.,  0., 22.]])"
      ]
     },
     "execution_count": 32,
     "metadata": {},
     "output_type": "execute_result"
    }
   ],
   "source": [
    "nb_map.confusion_matrix(data_valid)"
   ]
  },
  {
   "cell_type": "markdown",
   "id": "fd86881f",
   "metadata": {},
   "source": [
    "## Question 2.4: Comparing the two models you trained, how does the Dirichlet prior α effects your model? Also, interpret the structure of the dataset. Given that the dataset does not include stop words, why are the two models different? Explain by giving references to your results. You can also benefit from the statistical structure of the feature matrix."
   ]
  },
  {
   "cell_type": "markdown",
   "id": "383c63d5",
   "metadata": {},
   "source": [
    "For clarity, let $\\alpha$ denote a word and $\\psi$ denote a class. When the Diriclet prior is not used, it might be the case that there is no samples from class $\\psi$ that contains the word $\\alpha$. Then, if there is a new sample which contains the word $\\alpha$, the model will output zero for that sample being in the class $\\psi$. By adding the prior, we prevent the model output to be zero. The outputs become small numbers instead."
   ]
  },
  {
   "cell_type": "markdown",
   "id": "cf6f8456",
   "metadata": {},
   "source": [
    "For example, the confusion matrix for the MLE estimation (without the prior) shows that most of the samples are misclassified as class 0 since we predict the class that is lower in order in the case of ties.\n",
    "\n",
    "In the following cell, we see that there are many zero entries for each feature. This causes many of the outputs of the model to be zero when the model encounters new samples with that word. This causes ties and the model misclassifies the examples as class 0 as it is the class that is lower in order."
   ]
  },
  {
   "cell_type": "code",
   "execution_count": 33,
   "id": "77953772",
   "metadata": {},
   "outputs": [
    {
     "data": {
      "text/plain": [
       "array([4, 2, 0, 0, 2, 1, 4, 4, 0, 0, 0, 0, 2, 0, 3, 1, 1, 0, 4, 3, 0, 0,\n",
       "       0, 0, 3, 0, 4, 1, 0, 0, 0, 0, 0, 0, 0, 0, 0, 0, 0, 0, 0, 0, 1, 0,\n",
       "       0, 0, 1, 2, 0, 0, 0, 0, 3, 2, 4, 0, 1, 2, 4, 3, 0, 0, 0, 0, 1, 0,\n",
       "       2, 0, 0, 0, 2, 0, 3, 0, 0, 0, 2, 0, 0, 2, 0, 3, 0, 4, 2, 1, 0, 0,\n",
       "       2, 1, 1, 4, 3, 0, 0, 1, 0, 0, 2, 0])"
      ]
     },
     "execution_count": 33,
     "metadata": {},
     "output_type": "execute_result"
    }
   ],
   "source": [
    "np.where(data_train.groupby('class_label').sum() == 0, 1, 0).sum(axis=0)[:100]"
   ]
  },
  {
   "cell_type": "markdown",
   "id": "f90156f7",
   "metadata": {},
   "source": [
    "The following cell shows the output of the model on the validation dataset. We see that there are many $-\\infty$ values. For many samples, all the probabilites are $-\\infty$, and thus, the model misclassifies the samples as class 0 (the class that is lower in order.)"
   ]
  },
  {
   "cell_type": "code",
   "execution_count": 34,
   "id": "e61daeb6",
   "metadata": {},
   "outputs": [
    {
     "data": {
      "text/html": [
       "<div>\n",
       "<style scoped>\n",
       "    .dataframe tbody tr th:only-of-type {\n",
       "        vertical-align: middle;\n",
       "    }\n",
       "\n",
       "    .dataframe tbody tr th {\n",
       "        vertical-align: top;\n",
       "    }\n",
       "\n",
       "    .dataframe thead th {\n",
       "        text-align: right;\n",
       "    }\n",
       "</style>\n",
       "<table border=\"1\" class=\"dataframe\">\n",
       "  <thead>\n",
       "    <tr style=\"text-align: right;\">\n",
       "      <th></th>\n",
       "      <th>0</th>\n",
       "      <th>1</th>\n",
       "      <th>2</th>\n",
       "      <th>3</th>\n",
       "      <th>4</th>\n",
       "    </tr>\n",
       "  </thead>\n",
       "  <tbody>\n",
       "    <tr>\n",
       "      <th>0</th>\n",
       "      <td>-inf</td>\n",
       "      <td>-inf</td>\n",
       "      <td>-inf</td>\n",
       "      <td>-inf</td>\n",
       "      <td>-inf</td>\n",
       "    </tr>\n",
       "    <tr>\n",
       "      <th>1</th>\n",
       "      <td>-inf</td>\n",
       "      <td>-inf</td>\n",
       "      <td>-inf</td>\n",
       "      <td>-inf</td>\n",
       "      <td>-inf</td>\n",
       "    </tr>\n",
       "    <tr>\n",
       "      <th>2</th>\n",
       "      <td>-inf</td>\n",
       "      <td>-inf</td>\n",
       "      <td>-inf</td>\n",
       "      <td>-inf</td>\n",
       "      <td>-inf</td>\n",
       "    </tr>\n",
       "    <tr>\n",
       "      <th>3</th>\n",
       "      <td>-inf</td>\n",
       "      <td>-inf</td>\n",
       "      <td>-inf</td>\n",
       "      <td>-inf</td>\n",
       "      <td>-inf</td>\n",
       "    </tr>\n",
       "    <tr>\n",
       "      <th>4</th>\n",
       "      <td>-inf</td>\n",
       "      <td>-inf</td>\n",
       "      <td>-inf</td>\n",
       "      <td>-inf</td>\n",
       "      <td>-1.797693e+308</td>\n",
       "    </tr>\n",
       "    <tr>\n",
       "      <th>...</th>\n",
       "      <td>...</td>\n",
       "      <td>...</td>\n",
       "      <td>...</td>\n",
       "      <td>...</td>\n",
       "      <td>...</td>\n",
       "    </tr>\n",
       "    <tr>\n",
       "      <th>180</th>\n",
       "      <td>-inf</td>\n",
       "      <td>-inf</td>\n",
       "      <td>-inf</td>\n",
       "      <td>-inf</td>\n",
       "      <td>-inf</td>\n",
       "    </tr>\n",
       "    <tr>\n",
       "      <th>181</th>\n",
       "      <td>-inf</td>\n",
       "      <td>-inf</td>\n",
       "      <td>-inf</td>\n",
       "      <td>-inf</td>\n",
       "      <td>-inf</td>\n",
       "    </tr>\n",
       "    <tr>\n",
       "      <th>182</th>\n",
       "      <td>-inf</td>\n",
       "      <td>-inf</td>\n",
       "      <td>-inf</td>\n",
       "      <td>-inf</td>\n",
       "      <td>-inf</td>\n",
       "    </tr>\n",
       "    <tr>\n",
       "      <th>183</th>\n",
       "      <td>-inf</td>\n",
       "      <td>-inf</td>\n",
       "      <td>-inf</td>\n",
       "      <td>-inf</td>\n",
       "      <td>-inf</td>\n",
       "    </tr>\n",
       "    <tr>\n",
       "      <th>184</th>\n",
       "      <td>-inf</td>\n",
       "      <td>-inf</td>\n",
       "      <td>-inf</td>\n",
       "      <td>-inf</td>\n",
       "      <td>-inf</td>\n",
       "    </tr>\n",
       "  </tbody>\n",
       "</table>\n",
       "<p>185 rows × 5 columns</p>\n",
       "</div>"
      ],
      "text/plain": [
       "       0    1    2    3              4\n",
       "0   -inf -inf -inf -inf           -inf\n",
       "1   -inf -inf -inf -inf           -inf\n",
       "2   -inf -inf -inf -inf           -inf\n",
       "3   -inf -inf -inf -inf           -inf\n",
       "4   -inf -inf -inf -inf -1.797693e+308\n",
       "..   ...  ...  ...  ...            ...\n",
       "180 -inf -inf -inf -inf           -inf\n",
       "181 -inf -inf -inf -inf           -inf\n",
       "182 -inf -inf -inf -inf           -inf\n",
       "183 -inf -inf -inf -inf           -inf\n",
       "184 -inf -inf -inf -inf           -inf\n",
       "\n",
       "[185 rows x 5 columns]"
      ]
     },
     "execution_count": 34,
     "metadata": {},
     "output_type": "execute_result"
    }
   ],
   "source": [
    "nb_mle.get_scores(data_valid)"
   ]
  },
  {
   "cell_type": "markdown",
   "id": "eb3e3ca7",
   "metadata": {},
   "source": [
    "In the following cell, we can observe the effect of the prior $\\alpha$. There are no $-\\infty$ values since there is no zeros in the likelihoods."
   ]
  },
  {
   "cell_type": "code",
   "execution_count": 35,
   "id": "3739a24b",
   "metadata": {},
   "outputs": [
    {
     "data": {
      "text/html": [
       "<div>\n",
       "<style scoped>\n",
       "    .dataframe tbody tr th:only-of-type {\n",
       "        vertical-align: middle;\n",
       "    }\n",
       "\n",
       "    .dataframe tbody tr th {\n",
       "        vertical-align: top;\n",
       "    }\n",
       "\n",
       "    .dataframe thead th {\n",
       "        text-align: right;\n",
       "    }\n",
       "</style>\n",
       "<table border=\"1\" class=\"dataframe\">\n",
       "  <thead>\n",
       "    <tr style=\"text-align: right;\">\n",
       "      <th></th>\n",
       "      <th>0</th>\n",
       "      <th>1</th>\n",
       "      <th>2</th>\n",
       "      <th>3</th>\n",
       "      <th>4</th>\n",
       "    </tr>\n",
       "  </thead>\n",
       "  <tbody>\n",
       "    <tr>\n",
       "      <th>0</th>\n",
       "      <td>-1233.060177</td>\n",
       "      <td>-1231.921015</td>\n",
       "      <td>-1230.522389</td>\n",
       "      <td>-1235.827373</td>\n",
       "      <td>-1047.088547</td>\n",
       "    </tr>\n",
       "    <tr>\n",
       "      <th>1</th>\n",
       "      <td>-1181.419956</td>\n",
       "      <td>-1169.898431</td>\n",
       "      <td>-1068.447380</td>\n",
       "      <td>-1151.796023</td>\n",
       "      <td>-1145.649153</td>\n",
       "    </tr>\n",
       "    <tr>\n",
       "      <th>2</th>\n",
       "      <td>-7657.717286</td>\n",
       "      <td>-6557.608205</td>\n",
       "      <td>-7639.532552</td>\n",
       "      <td>-7615.212454</td>\n",
       "      <td>-7564.218066</td>\n",
       "    </tr>\n",
       "    <tr>\n",
       "      <th>3</th>\n",
       "      <td>-1162.495946</td>\n",
       "      <td>-1178.713996</td>\n",
       "      <td>-1089.896843</td>\n",
       "      <td>-1164.804730</td>\n",
       "      <td>-1194.167169</td>\n",
       "    </tr>\n",
       "    <tr>\n",
       "      <th>4</th>\n",
       "      <td>-1032.608840</td>\n",
       "      <td>-1050.741549</td>\n",
       "      <td>-1026.161416</td>\n",
       "      <td>-1041.338716</td>\n",
       "      <td>-891.342299</td>\n",
       "    </tr>\n",
       "    <tr>\n",
       "      <th>...</th>\n",
       "      <td>...</td>\n",
       "      <td>...</td>\n",
       "      <td>...</td>\n",
       "      <td>...</td>\n",
       "      <td>...</td>\n",
       "    </tr>\n",
       "    <tr>\n",
       "      <th>180</th>\n",
       "      <td>-2179.998139</td>\n",
       "      <td>-2152.516462</td>\n",
       "      <td>-1888.579209</td>\n",
       "      <td>-2145.308897</td>\n",
       "      <td>-2127.739230</td>\n",
       "    </tr>\n",
       "    <tr>\n",
       "      <th>181</th>\n",
       "      <td>-3078.034078</td>\n",
       "      <td>-3748.081551</td>\n",
       "      <td>-3675.843914</td>\n",
       "      <td>-3689.441685</td>\n",
       "      <td>-3512.934664</td>\n",
       "    </tr>\n",
       "    <tr>\n",
       "      <th>182</th>\n",
       "      <td>-848.301695</td>\n",
       "      <td>-835.398349</td>\n",
       "      <td>-841.306372</td>\n",
       "      <td>-830.082663</td>\n",
       "      <td>-757.861411</td>\n",
       "    </tr>\n",
       "    <tr>\n",
       "      <th>183</th>\n",
       "      <td>-1751.711495</td>\n",
       "      <td>-1788.459220</td>\n",
       "      <td>-1502.930022</td>\n",
       "      <td>-1731.814688</td>\n",
       "      <td>-1744.487264</td>\n",
       "    </tr>\n",
       "    <tr>\n",
       "      <th>184</th>\n",
       "      <td>-1445.443172</td>\n",
       "      <td>-1427.415390</td>\n",
       "      <td>-1323.582866</td>\n",
       "      <td>-1392.417878</td>\n",
       "      <td>-1426.071402</td>\n",
       "    </tr>\n",
       "  </tbody>\n",
       "</table>\n",
       "<p>185 rows × 5 columns</p>\n",
       "</div>"
      ],
      "text/plain": [
       "               0            1            2            3            4\n",
       "0   -1233.060177 -1231.921015 -1230.522389 -1235.827373 -1047.088547\n",
       "1   -1181.419956 -1169.898431 -1068.447380 -1151.796023 -1145.649153\n",
       "2   -7657.717286 -6557.608205 -7639.532552 -7615.212454 -7564.218066\n",
       "3   -1162.495946 -1178.713996 -1089.896843 -1164.804730 -1194.167169\n",
       "4   -1032.608840 -1050.741549 -1026.161416 -1041.338716  -891.342299\n",
       "..           ...          ...          ...          ...          ...\n",
       "180 -2179.998139 -2152.516462 -1888.579209 -2145.308897 -2127.739230\n",
       "181 -3078.034078 -3748.081551 -3675.843914 -3689.441685 -3512.934664\n",
       "182  -848.301695  -835.398349  -841.306372  -830.082663  -757.861411\n",
       "183 -1751.711495 -1788.459220 -1502.930022 -1731.814688 -1744.487264\n",
       "184 -1445.443172 -1427.415390 -1323.582866 -1392.417878 -1426.071402\n",
       "\n",
       "[185 rows x 5 columns]"
      ]
     },
     "execution_count": 35,
     "metadata": {},
     "output_type": "execute_result"
    }
   ],
   "source": [
    "nb_map.get_scores(data_valid)"
   ]
  }
 ],
 "metadata": {
  "kernelspec": {
   "display_name": "Python 3 (ipykernel)",
   "language": "python",
   "name": "python3"
  },
  "language_info": {
   "codemirror_mode": {
    "name": "ipython",
    "version": 3
   },
   "file_extension": ".py",
   "mimetype": "text/x-python",
   "name": "python",
   "nbconvert_exporter": "python",
   "pygments_lexer": "ipython3",
   "version": "3.8.8"
  }
 },
 "nbformat": 4,
 "nbformat_minor": 5
}
