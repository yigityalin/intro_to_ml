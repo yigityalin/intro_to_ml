{
 "cells": [
  {
   "cell_type": "markdown",
   "metadata": {
    "id": "YmlJ7FFJGA3k",
    "pycharm": {
     "name": "#%% md\n"
    }
   },
   "source": [
    "**<h1><center>CS 464</center></h1>**\n",
    "**<h1><center>Introduction to Machine Learning</center></h1>**\n",
    "**<h1><center>Spring 2022</center></h1>**\n",
    "**<h1><center>Homework 3</center></h1>**\n",
    "<h4><center>Due: DEC 23, 2022 23:59 (GMT+3)</center></h4>"
   ]
  },
  {
   "cell_type": "markdown",
   "metadata": {
    "id": "LxSgl3smH_qk",
    "pycharm": {
     "name": "#%% md\n"
    }
   },
   "source": [
    "In this third homework assignment, you are asked to develop a system that can be used to supply additional information to weather forecasts. For this task, you are provided a dataset that consists of weather images that belong to four different weather conditions: [cloudy, rain, shiny, sunrise]. Your model will classify images considering these class labels. \n",
    "\n",
    "For this assignment, **using PyTorch is mandatory.**\n",
    "\n",
    "**Tip:** You may experience latencies in file I/O if you are using Google Colab. In this regard, we recommend you upload your data to Google Drive as a zip file and unzip the folder contents in your drive. If you would like to upload the data files separately, it may take significant time.\n",
    "\n",
    "You will submit a single ipynb file as the homework submission. If you want to provide further explanation about your work, you can add Markdown cells to do so. [Here](https://www.markdownguide.org/), you can find a guide for Markdown syntax. Upload your homework with the following filename convention: \\<BilkentID\\>\\_\\<Name\\>\\_\\<Surname\\>.ipynb\n",
    "\n",
    "**Contact:**\n",
    "- [Yusuf Dalva](mailto:yusuf.dalva@bilkent.edu.tr)\n",
    "- [Ahmet Burak Yıldırım](mailto:a.yildirim@bilkent.edu.tr)\n",
    "\n",
    "**Dataset**<br>\n",
    "You can find the dataset [here](https://www.kaggle.com/datasets/pratik2901/multiclass-weather-dataset). \n"
   ]
  },
  {
   "cell_type": "markdown",
   "metadata": {
    "id": "kUQigqxM4JlE",
    "pycharm": {
     "name": "#%% md\n"
    }
   },
   "source": [
    "# **Q1** [12 points]\n",
    "This part consists of 4 questions which you are expected to answer. Please fill in the following cell in Markdown format. Each question is worth 2 points."
   ]
  },
  {
   "cell_type": "markdown",
   "metadata": {
    "id": "3ZcbkhwkbQ4m",
    "pycharm": {
     "name": "#%% md\n"
    }
   },
   "source": [
    "a) Do we need to output the actual probability values when performing classification with the softmax layer? If not, how do these numbers represent the likelihood of classes? Also, does the output values should be in a specific range for us to make a classification? <br>\n",
    "\n",
    "**We do not need to output the actual probability values when performing classification with the softmax layer. Softmax layer transforms the output into a probability distribution, not necessarily the true probability distribution. There are other ways to obtain a probability distribution from a layer output but the nice property of softmax with crossentropy loss is that it makes the gradient calculation so easy: a simple subtracting is enough. By using softmax, what we try to obtain is not the real distribution but a ranking among the class labels and how certain the class is.**\n",
    "\n",
    "**Also, the classification does not require the outputs to be in a specific range. For example, consider a binary classification problem and let us use a linear activation function in the last layer. This does not constraint the range of the network outputs. However, we can pick a threshold over which we classify the input as the positive class (or the negative one). However, the model is actually a regression model and the training of the network be harder. Also, for multi-class classification, the range of outputs now matter since we pick thresholds on our own and we do not know what should be these thresholds. We might not even have an ordinal relationship between the classes which makes determining the threshold harder. Thus, limiting the sum of the network outputs, like softmax makes the sum equal to 1, makes the training and inference easier and more consistent.**\n",
    "\n",
    "b) From the perspective of model complexity, how you can identify when a model underfits or overfits? Which plots are informative for detecting this behavior? <br>\n",
    "\n",
    "**Overfitting is the situation where the model learns the noise in the training data rather than the important patterns, which allows the model to generalize to unseen samples. Therefore, an indication is overfitting is a large gap between the training and validation performances. If a model overfits, the training performance is much better than the validation performance. Thus, train/validation losses vs epoch plots might be useful to monitor overfitting. Underfitting is the situation where the model complexity is not sufficient to capture the complex patterns in data. Again, the train/validation losses vs epoch plot might be useful to observe whether the model can learn, i.e., whether the loss drops.**\n",
    "\n",
    "c) In neural networks, how does the ReLU function help us to generalize to conplex feature spaces? Why we are not using linear layers only? <br>\n",
    "\n",
    "**Stacking linear layers only allows the model to capture linear patterns between the inputs since taking multiple linear combinations of an input still results in a linear combination. ReLU (or any nonlinear activation function) allows the model to capture nonlinear relationships among the inputs. There is a strong result called universal approximation theorem which proves that the fully-connected neural networks with ReLU activation function can represent any function under some constraints.**\n",
    "\n",
    "d) Assume that you are going to pass the feature matrix with dimensions 64x64x5 (Height x Width x Channel size) through a convolutional layer. If our convolutional layer has a kernel size of 3x3 and the number of filters is 6, how many learnable parameters are present? <br>\n",
    "\n",
    "**The layer has $((3 \\times 3 \\times 5) + 1) * 6 = 276$ learnable parameters. (((filter_width $\\times$ filter_height $\\times$ the number of channels in the previous layer) + 1) $\\times$ the number of filters) gives the number of learnable parameters, where the additional 1 comes from the bias terms.**"
   ]
  },
  {
   "cell_type": "markdown",
   "metadata": {
    "id": "Qx_XrpE44TlW",
    "pycharm": {
     "name": "#%% md\n"
    }
   },
   "source": [
    "# **Q2** [88 points]"
   ]
  },
  {
   "cell_type": "markdown",
   "metadata": {
    "id": "whvv0wjpDWC_",
    "pycharm": {
     "name": "#%% md\n"
    }
   },
   "source": [
    "## Necessary Imports\n",
    "In the cell below, we import some utilities that you can make use of in this assignment. Note that you need to use PyTorch in this assignment. To report certain metrics (like precision, recall, accuracy) you may use utilities from *scikit-learn* library. You can edit these imports considering your implementation as long as you use PyTorch."
   ]
  },
  {
   "cell_type": "markdown",
   "metadata": {
    "id": "ByxehL1b4b2X",
    "pycharm": {
     "name": "#%% md\n"
    }
   },
   "source": [
    "## Setup"
   ]
  },
  {
   "cell_type": "code",
   "execution_count": null,
   "metadata": {
    "id": "Jk_nY5kj70sX",
    "pycharm": {
     "name": "#%%\n"
    }
   },
   "outputs": [],
   "source": [
    "from collections import defaultdict\n",
    "from itertools import product\n",
    "from pathlib import Path\n",
    "import os \n",
    "import time\n",
    "import random\n",
    "\n",
    "from tabulate import tabulate\n",
    "from tqdm import tqdm\n",
    "import numpy as np\n",
    "from PIL import Image\n",
    "import matplotlib.pyplot as plt\n",
    "\n",
    "import torch\n",
    "import torch.nn as nn\n",
    "import torch.nn.functional as F\n",
    "import torchvision.models as models\n",
    "import torchmetrics\n",
    "from torchvision import models\n",
    "from torchvision import transforms\n",
    "from torchvision.datasets import ImageFolder\n",
    "from torch.utils.data import random_split, Dataset, DataLoader\n",
    "\n",
    "from sklearn.model_selection import train_test_split\n",
    "from sklearn.metrics import confusion_matrix, f1_score, precision_score, recall_score, accuracy_score, ConfusionMatrixDisplay"
   ]
  },
  {
   "cell_type": "markdown",
   "metadata": {
    "id": "yAve2XUl9spy",
    "pycharm": {
     "name": "#%% md\n"
    }
   },
   "source": [
    "You can test whether hardware acceleration with GPU is enabled in the cell below. In addition, if you have GPU access, you can check the amount of available GPU memory."
   ]
  },
  {
   "cell_type": "code",
   "execution_count": null,
   "metadata": {
    "id": "0XJ4Hihx5q-2",
    "outputId": "8b1c21d1-70c3-46c3-aa7e-3b4886e318b2",
    "pycharm": {
     "name": "#%%\n"
    }
   },
   "outputs": [
    {
     "name": "stdout",
     "output_type": "stream",
     "text": [
      "Using device: cuda\n",
      "GPU Name: NVIDIA GeForce GTX 1060 6GB\n",
      "Memory Stats:\n",
      "  - Allocated: 0.0 GB\n",
      "  - Cached:    0.0 GB\n",
      "  - Total:     6.0 GB\n"
     ]
    }
   ],
   "source": [
    "# setting device as GPU if available, else CPU\n",
    "device = torch.device('cuda' if torch.cuda.is_available() else 'cpu')\n",
    "print('Using device:', device)\n",
    "\n",
    "# CUDA device information\n",
    "if device.type == 'cuda':\n",
    "    print('GPU Name:', torch.cuda.get_device_name(0))\n",
    "    print('Memory Stats:')\n",
    "    print('  - Allocated:', round(torch.cuda.memory_allocated(0)/1024**3,1), 'GB')\n",
    "    print('  - Cached:   ', round(torch.cuda.memory_reserved(0)/1024**3,1), 'GB')\n",
    "    print('  - Total:    ', round(torch.cuda.get_device_properties(0).total_memory/1024**3,1), 'GB')"
   ]
  },
  {
   "cell_type": "markdown",
   "metadata": {
    "id": "-wVIFjmb-CJI",
    "pycharm": {
     "name": "#%% md\n"
    }
   },
   "source": [
    "**DO NOT CHANGE**<br>\n",
    "To evaluate your implementation fairly, we set seed values for random sampling methods in PyTorch, Numpy, and Python random library. These seeds are set to evaluate your models successfully, so do not change these values."
   ]
  },
  {
   "cell_type": "code",
   "execution_count": null,
   "metadata": {
    "id": "4NiPHoaY5q8G",
    "pycharm": {
     "name": "#%%\n"
    }
   },
   "outputs": [],
   "source": [
    "# for reproducable results\n",
    "torch.manual_seed(464)\n",
    "torch.cuda.manual_seed(464)\n",
    "np.random.seed(464)\n",
    "random.seed(464)\n",
    "if device.type == 'cuda':\n",
    "    torch.backends.cudnn.deterministic=True"
   ]
  },
  {
   "cell_type": "markdown",
   "metadata": {
    "id": "Bbgnyp5J4fMb",
    "pycharm": {
     "name": "#%% md\n"
    }
   },
   "source": [
    "## Load Data [6 points]\n",
    "In this assignment, you will use a custom dataset, which you need a wrapper class to access its data. For this purpose, implement a custom dataset class to organize data with the specifications you need. This class will load batches of data using a PyTorch DataLoader later. The class signature of CustomDataset class is provided to you in the cell below, where you can implement your custom dataset.\n",
    "\n",
    "**IMPORTANT:** As you may have difficulties while fitting all images to your RAM, you need to read the images while getting that item (each item is an image here). We encourage you to read the data files in the \"__getitem__\" function to avoid encountering any issues related to fitting the data to memory. This way, you do not need to hold the dataset in a single variable, which would be memory intensive."
   ]
  },
  {
   "cell_type": "code",
   "execution_count": null,
   "metadata": {
    "id": "BGtTw5Jqz3xq",
    "pycharm": {
     "name": "#%%\n"
    }
   },
   "outputs": [],
   "source": [
    "PROJECT_ROOT_DIR = Path().resolve()\n",
    "DATASET_DIR = PROJECT_ROOT_DIR / 'dataset'\n",
    "MODELS_DIR = PROJECT_ROOT_DIR / 'models'\n",
    "MODELS_DIR.mkdir(exist_ok=True)"
   ]
  },
  {
   "cell_type": "code",
   "execution_count": null,
   "metadata": {
    "id": "iEgUvtFR8uY_",
    "pycharm": {
     "name": "#%%\n"
    }
   },
   "outputs": [],
   "source": [
    "class CustomDataset(Dataset):\n",
    "    def __init__(self, data, labels, **kwargs):\n",
    "        self.path = kwargs.get('path')\n",
    "        self.transform = kwargs.get('transform')\n",
    "        self.images = ImageFolder(self.path, transform=self.transform)\n",
    "\n",
    "    '''This function should return sample count in the dataset'''\n",
    "    def __len__(self):\n",
    "        return len(self.images)\n",
    "\n",
    "    '''This function should return a single sample and its ground truth value from the dataset corresponding to index parameter '''\n",
    "    def __getitem__(self, index):\n",
    "        return self.images[index]"
   ]
  },
  {
   "cell_type": "markdown",
   "metadata": {
    "id": "H5aZOFJwEc_-",
    "pycharm": {
     "name": "#%% md\n"
    }
   },
   "source": [
    "You can implement an additional function to read and construct custom dataset objects for training, validation, and test sets. While constructing the dataset, consider the following issues:\n",
    "- Dataset contains images that end with prefixes *.jpg* and *.jpeg*.\n",
    "- If you use PIL to read images, you should convert them to \"RGB\" format to operate on three color channels.\n",
    "- Resize the dataset images to 224x224. You are going to design models that take images with tensor shape 224x224x3.\n",
    "- If you wish, you can change the ordering of the color channels with np.moveaxis function\n",
    "\n",
    "Lastly, the train-validation-test split for the dataset provided to you is 70-10-20 in terms of percentages. While constructing the dataset, remember that shuffling is a necessary step (to get randomly distributed classes across batches).\n",
    "\n",
    "You can design your dataset getter method compatible with the line provided below, where train_dataset, val_dataset, and test_dataset are all instances of CustomDataset."
   ]
  },
  {
   "cell_type": "code",
   "execution_count": null,
   "metadata": {
    "id": "xRqRKLcqz3xs",
    "pycharm": {
     "name": "#%%\n"
    }
   },
   "outputs": [],
   "source": [
    "transform = transforms.Compose([\n",
    "    transforms.Resize((224, 224)),\n",
    "    transforms.ToTensor()\n",
    "])"
   ]
  },
  {
   "cell_type": "code",
   "execution_count": null,
   "metadata": {
    "id": "uB0W2dHPz3xs",
    "pycharm": {
     "name": "#%%\n"
    }
   },
   "outputs": [],
   "source": [
    "def load_datasets(path, transform, val_ratio=0.1, test_ratio=0.2):\n",
    "    dataset = CustomDataset(None, None, path=path, transform=transform)\n",
    "    cardinality = len(dataset)\n",
    "    val_dataset_cardinality = int(cardinality * val_ratio)\n",
    "    test_dataset_cardinality = int(cardinality * test_ratio)\n",
    "    train_dataset_cardinality = cardinality - val_dataset_cardinality - test_dataset_cardinality\n",
    "    return random_split(dataset, [train_dataset_cardinality, val_dataset_cardinality, test_dataset_cardinality])"
   ]
  },
  {
   "cell_type": "code",
   "execution_count": null,
   "metadata": {
    "id": "5icOihzMzqfe",
    "pycharm": {
     "name": "#%%\n"
    }
   },
   "outputs": [],
   "source": [
    "train_dataset, val_dataset, test_dataset = load_datasets(DATASET_DIR, transform)"
   ]
  },
  {
   "cell_type": "markdown",
   "metadata": {
    "id": "ltjHllVn4juX",
    "pycharm": {
     "name": "#%% md\n"
    }
   },
   "source": [
    "## Models [16 points]\n",
    "In this assignment, you will implement one CNN (Convolutional Neural Network) model and one FCN (Fully-Connected Network) model, where the class signatures are provided below."
   ]
  },
  {
   "cell_type": "markdown",
   "metadata": {
    "id": "VY-2PQauFJWn",
    "pycharm": {
     "name": "#%% md\n"
    }
   },
   "source": [
    "### Convolutional Neural Network (CNN) Model [8 points]\n",
    "As the first model, you will implement a convolutional model. Your model will include 3 CONV + POOL blocks, which denotes one Convolutional layer followed by a Max Pooling Layer. The channel sizes for convolutional blocks are [16, 32, 64], respectively. For all convolutional layers, take kernel size as 3, stride as one, and apply padding such that convolutions do not change the shape on width and height dimensions. \n",
    "<br><br>\n",
    "Following the convolutional part, you will perform image classification for the dataset provided to you. You can use ReLU activation as the non-linearity in your model (except the classification layer)."
   ]
  },
  {
   "cell_type": "code",
   "execution_count": null,
   "metadata": {
    "id": "C1yM9RoqAYh8",
    "pycharm": {
     "name": "#%%\n"
    }
   },
   "outputs": [],
   "source": [
    "class ConvNet(nn.Module):\n",
    "    '''Define your convolutional neural network'''\n",
    "    def __init__(self, **kwargs):\n",
    "        super().__init__()\n",
    "        self.network = nn.Sequential(\n",
    "            nn.Conv2d(3, 16, kernel_size=3, padding=1),\n",
    "            nn.ReLU(),\n",
    "            nn.MaxPool2d(kernel_size=2),\n",
    "            nn.Conv2d(16, 32, kernel_size=3, padding=1),\n",
    "            nn.ReLU(),\n",
    "            nn.MaxPool2d(kernel_size=2),\n",
    "            nn.Conv2d(32, 64, kernel_size=3, padding=1),\n",
    "            nn.ReLU(),\n",
    "            nn.MaxPool2d(kernel_size=2),\n",
    "            nn.Flatten(),\n",
    "            nn.Linear(50176, 512),\n",
    "            nn.ReLU(),\n",
    "            nn.Linear(512, 256),\n",
    "            nn.ReLU(),\n",
    "            nn.Linear(256, 4),\n",
    "            nn.Softmax(dim=-1)\n",
    "        )\n",
    "     \n",
    "    def forward(self, x):\n",
    "        return self.network(x)"
   ]
  },
  {
   "cell_type": "markdown",
   "metadata": {
    "id": "b7plNvDmGmMO",
    "pycharm": {
     "name": "#%% md\n"
    }
   },
   "source": [
    "### Fully Connected Network (FCN) Model [8 points]\n",
    "The second model you will try is a Fully Connected Network composed of Linear layers and non-linear activation functions connected to each other. For this part, the number of features for your linear layers is [1024, 512, 256]. Again, you can use ReLU as your non-linear activation function in your model (except the classification layer)."
   ]
  },
  {
   "cell_type": "code",
   "execution_count": null,
   "metadata": {
    "id": "spwuuCJcb5H_",
    "pycharm": {
     "name": "#%%\n"
    }
   },
   "outputs": [],
   "source": [
    "class FCNet(nn.Module):\n",
    "    '''Define your full connected network'''\n",
    "    def __init__(self, **kwargs):\n",
    "        super().__init__()\n",
    "        self.network = nn.Sequential(\n",
    "            nn.Flatten(),\n",
    "            nn.Linear(224 * 224 * 3, 1024),\n",
    "            nn.ReLU(),\n",
    "            nn.Linear(1024, 512),\n",
    "            nn.ReLU(),\n",
    "            nn.Linear(512, 256),\n",
    "            nn.ReLU(),\n",
    "            nn.Linear(256, 4),\n",
    "            nn.Softmax(dim=-1)\n",
    "        )\n",
    "     \n",
    "    def forward(self, x):\n",
    "        return self.network(x.to(device))"
   ]
  },
  {
   "cell_type": "markdown",
   "metadata": {
    "id": "zQxKtXZEz3xu",
    "pycharm": {
     "name": "#%% md\n"
    }
   },
   "source": [
    "## Helper functions"
   ]
  },
  {
   "cell_type": "code",
   "execution_count": null,
   "metadata": {
    "id": "xwXF84dxz3xv",
    "pycharm": {
     "name": "#%%\n"
    }
   },
   "outputs": [],
   "source": [
    "labels = [label.stem for label in DATASET_DIR.iterdir()]"
   ]
  },
  {
   "cell_type": "code",
   "execution_count": null,
   "metadata": {
    "id": "7CT3ovIXz3xv",
    "pycharm": {
     "name": "#%%\n"
    }
   },
   "outputs": [],
   "source": [
    "def plot_loss_curves(history):\n",
    "    fig, (ax1, ax2) = plt.subplots(1, 2, figsize=(15, 5))\n",
    "    \n",
    "    ax1.plot(range(len(history['train_loss'])), \n",
    "             [val.cpu().detach().numpy() for val in history['train_loss']], \n",
    "             label='Train loss')\n",
    "    ax2.plot(range(len(history['valid_loss'])), \n",
    "             [val.cpu().detach().numpy() for val in history['valid_loss']], \n",
    "             label='Valid loss')\n",
    "    \n",
    "    ax1.set_title(f'Train Loss vs Epoch')\n",
    "    ax1.set_xlabel('Epoch')\n",
    "    ax1.set_ylabel('Values')\n",
    "    \n",
    "    ax2.set_title(f'Valid Loss vs Epoch')\n",
    "    ax2.set_xlabel('Epoch')\n",
    "    ax2.set_ylabel('Values')\n",
    "    \n",
    "    plt.legend()\n",
    "    plt.show()"
   ]
  },
  {
   "cell_type": "code",
   "execution_count": null,
   "metadata": {
    "id": "cWXzc4lvz3xv",
    "pycharm": {
     "name": "#%%\n"
    }
   },
   "outputs": [],
   "source": [
    "def plot_accuracy_curves(history):\n",
    "    fig, (ax1, ax2) = plt.subplots(1, 2, figsize=(15, 5))\n",
    "    \n",
    "    ax1.plot(range(len(history['train_accuracy'])), \n",
    "             [val.cpu().detach().numpy() for val in history['train_accuracy']], \n",
    "             label='Train accuracy')\n",
    "    ax2.plot(range(len(history['valid_accuracy'])), \n",
    "             [val.cpu().detach().numpy() for val in history['valid_accuracy']], \n",
    "             label='Valid accuracy')\n",
    "    \n",
    "    ax1.set_title(f'Train Accuracy vs Epoch')\n",
    "    ax1.set_xlabel('Epoch')\n",
    "    ax1.set_ylabel('Values')\n",
    "    \n",
    "    ax2.set_title(f'Valid Accuracy vs Epoch')\n",
    "    ax2.set_xlabel('Epoch')\n",
    "    ax2.set_ylabel('Values')\n",
    "    \n",
    "    plt.legend()\n",
    "    plt.show()"
   ]
  },
  {
   "cell_type": "code",
   "execution_count": null,
   "metadata": {
    "id": "kwhUFNqOz3xv",
    "pycharm": {
     "name": "#%%\n"
    }
   },
   "outputs": [],
   "source": [
    "def get_best_model(model_cls, model_cls_name):\n",
    "    model_states = [state for state in MODELS_DIR.iterdir() if state.name.startswith(f'model-{model_cls_name}')]\n",
    "    model_losses = [float(state.name[-6:]) for state in model_states]\n",
    "    best_model_index = np.argmin(model_losses)\n",
    "    model = model_cls()\n",
    "    state_dict = torch.load(model_states[best_model_index])\n",
    "    model.load_state_dict(state_dict())\n",
    "    model.eval()\n",
    "    return model"
   ]
  },
  {
   "cell_type": "code",
   "execution_count": null,
   "metadata": {
    "id": "dN8z0SZcz3xw",
    "pycharm": {
     "name": "#%%\n"
    }
   },
   "outputs": [],
   "source": [
    "def plot_confusion_matrix(cm):\n",
    "    ConfusionMatrixDisplay(cm.cpu().detach().numpy(), display_labels=labels).plot()"
   ]
  },
  {
   "cell_type": "code",
   "execution_count": null,
   "metadata": {
    "id": "ug2_H_X3z3xw",
    "pycharm": {
     "name": "#%%\n"
    }
   },
   "outputs": [],
   "source": [
    "def show_results(loss, acc, precision, recall, f1):\n",
    "    table = [\n",
    "        ['Loss', loss],\n",
    "        ['Accuracy', acc],\n",
    "        ['Precision', precision],\n",
    "        ['Recall', recall],\n",
    "        ['F1', f1]\n",
    "    ]\n",
    "    print(tabulate(table, headers=['Metric', 'Score'], tablefmt='fancy_grid'))"
   ]
  },
  {
   "cell_type": "code",
   "execution_count": null,
   "metadata": {
    "id": "IavmyrY-z3xx",
    "pycharm": {
     "name": "#%%\n"
    }
   },
   "outputs": [],
   "source": [
    "@torch.no_grad()\n",
    "def evaluate(model, dataset):\n",
    "    model.eval()\n",
    "    dataset_loader = DataLoader(dataset, batch_size=len(dataset))\n",
    "    accuracy_score = torchmetrics.Accuracy(task='multiclass', average='macro', num_classes=4).to(device)\n",
    "    precision_score = torchmetrics.Precision(task='multiclass', average='macro', num_classes=4).to(device)\n",
    "    recall_score = torchmetrics.Recall(task='multiclass', average='macro', num_classes=4).to(device)\n",
    "    f1_score = torchmetrics.F1Score(task='multiclass', average='macro', num_classes=4).to(device)\n",
    "    confusion_matrix = torchmetrics.ConfusionMatrix(task='multiclass', average='macro', num_classes=4).to(device)\n",
    "    \n",
    "    test_outputs = [model(im.to(device)) for im, _ in dataset_loader]\n",
    "    loss = torch.stack([F.cross_entropy(outputs.to(device), labels.to(device)) \n",
    "                        for outputs, (_, labels) in zip(test_outputs, dataset_loader)]).mean()\n",
    "    accuracy = torch.stack([accuracy_score(outputs.to(device), labels.to(device)) \n",
    "                            for outputs, (_, labels) in zip(test_outputs, dataset_loader)]).mean()\n",
    "    precision = torch.stack([precision_score(outputs.to(device), labels.to(device)) \n",
    "                             for outputs, (_, labels) in zip(test_outputs, dataset_loader)]).mean()\n",
    "    recall = torch.stack([recall_score(outputs.to(device), labels.to(device)) \n",
    "                          for outputs, (_, labels) in zip(test_outputs, dataset_loader)]).mean()\n",
    "    f1 = torch.stack([f1_score(outputs.to(device), labels.to(device)) \n",
    "                      for outputs, (_, labels) in zip(test_outputs, dataset_loader)]).mean()\n",
    "    cm = torch.stack([confusion_matrix(outputs.to(device), labels.to(device)) \n",
    "                      for outputs, (_, labels) in zip(test_outputs, dataset_loader)])\n",
    "    return loss, accuracy, precision, recall, f1, cm[0]"
   ]
  },
  {
   "cell_type": "code",
   "execution_count": null,
   "metadata": {
    "id": "cjEfFWoNz3xx",
    "pycharm": {
     "name": "#%%\n"
    }
   },
   "outputs": [],
   "source": [
    "@torch.no_grad()\n",
    "def validation(model, dataset_loader):\n",
    "    model.eval()\n",
    "    accuracy_score = torchmetrics.Accuracy(task='multiclass', num_classes=4).to(device)\n",
    "    valid_outputs = [model(im.to(device)) for im, _ in dataset_loader]\n",
    "    valid_loss = torch.stack([F.cross_entropy(outputs.to(device), labels.to(device)) \n",
    "                              for outputs, (_, labels) in zip(valid_outputs, dataset_loader)]).mean()\n",
    "    valid_acc = torch.stack([accuracy_score(outputs.to(device), labels.to(device)) \n",
    "                             for outputs, (_, labels) in zip(valid_outputs, dataset_loader)]).mean()\n",
    "    return valid_loss, valid_acc"
   ]
  },
  {
   "cell_type": "code",
   "execution_count": null,
   "metadata": {
    "id": "KAxKjmKGz3xy",
    "pycharm": {
     "name": "#%%\n"
    }
   },
   "outputs": [],
   "source": [
    "def train(model_cls,\n",
    "          model_cls_name,\n",
    "          epochs,\n",
    "          train_batch_size,\n",
    "          test_batch_size,\n",
    "          learning_rate,\n",
    "          momentum,\n",
    "          weight_decay,\n",
    "          train_dataset,\n",
    "          validation_dataset,\n",
    "          optimizer_cls=torch.optim.SGD):\n",
    "    torch.cuda.empty_cache()\n",
    "    \n",
    "    train_loader = DataLoader(dataset=train_dataset, batch_size=train_batch_size)\n",
    "    val_loader = DataLoader(dataset=validation_dataset, batch_size=test_batch_size)\n",
    "    \n",
    "    model = model_cls().to(device)\n",
    "    optimizer = optimizer_cls(model.parameters(), learning_rate, momentum=momentum, weight_decay=weight_decay)\n",
    "    history = defaultdict(list)\n",
    "    \n",
    "    accuracy_score = torchmetrics.Accuracy(task='multiclass', num_classes=4).to(device)\n",
    "    min_val_loss = np.inf\n",
    "    for epoch in range(epochs):\n",
    "        batch_losses = []\n",
    "        batch_accuracies = []\n",
    "        for i, batch in (progress_bar := tqdm(enumerate(train_loader), total=len(train_loader))):\n",
    "            im, labels = batch\n",
    "            im = im.to(device)\n",
    "            labels = labels.to(device)\n",
    "\n",
    "            optimizer.zero_grad()\n",
    "            outputs = model(im)\n",
    "\n",
    "            loss = F.cross_entropy(outputs, labels)\n",
    "            accuracy = accuracy_score(outputs, labels)\n",
    "\n",
    "            batch_losses.append(loss)\n",
    "            batch_accuracies.append(accuracy)\n",
    "\n",
    "            loss.backward()\n",
    "            optimizer.step()\n",
    "            \n",
    "            progress_bar.set_description_str(f'Epoch: {epoch + 1}/{epochs}')\n",
    "            progress_bar.set_postfix_str(f'train_loss={batch_losses[-1]:.4f}, '\n",
    "                                         f'train_accuracy={batch_accuracies[-1]:.2f}')\n",
    "            \n",
    "            if i == len(train_loader) - 1:\n",
    "                history['train_loss'].append(torch.stack(batch_losses).mean())\n",
    "                history['train_accuracy'].append(torch.stack(batch_accuracies).mean())\n",
    "\n",
    "                valid_loss, valid_accuracy = validation(model, val_loader)\n",
    "                history['valid_loss'].append(valid_loss)\n",
    "                history['valid_accuracy'].append(valid_accuracy)\n",
    "                \n",
    "                if valid_loss <= min_val_loss:\n",
    "                    torch.save(model.state_dict, MODELS_DIR / f'model-{model_cls_name}-acc={valid_accuracy:.2f}-loss={valid_loss:.4f}')\n",
    "                    min_val_loss = valid_loss\n",
    "                \n",
    "                progress_bar.set_postfix_str(f'train_loss={history[\"train_loss\"][-1]:.4f}, '\n",
    "                                             f'train_acc={history[\"train_accuracy\"][-1]:.2f}, '\n",
    "                                             f'val_loss={history[\"valid_loss\"][-1]:.4f}, '\n",
    "                                             f'val_acc={history[\"valid_accuracy\"][-1]:.2f}')\n",
    "    return history"
   ]
  },
  {
   "cell_type": "markdown",
   "metadata": {
    "id": "TAQDCw1AgAJV",
    "pycharm": {
     "name": "#%% md\n"
    }
   },
   "source": [
    "## Training and Evaluation of FCN [22 points]\n",
    "\n",
    "Now that you implemented the model definition of CNN and FCN, you will train these models with the hyperparameters you chose. The hyperparameters that you may change are listed in the cell below. Using the FCN model defined, train a classifier that predicts weather condition classes specified by the dataset. For the optimizer, use [SGD](https://pytorch.org/docs/stable/generated/torch.optim.SGD.html) optimizer provided by PyTorch. You should try out different hyper-parameters like learning rates, epochs, momentum, and weight decay. For [momentum](https://machinelearningmastery.com/gradient-descent-with-momentum-from-scratch/) and [weight decay](https://paperswithcode.com/method/weight-decay), you can read about these concepts if you are interested.\n",
    "\n",
    "While training your model, save your best model over different epochs. You must select an appropriate metric to define the best model at a time step. You can implement the training procedure in the cell below. If you want to explain the reasoning behind your metric selection, you can add a markdown cell and provide your comments."
   ]
  },
  {
   "cell_type": "markdown",
   "metadata": {
    "id": "S6p2RYvpz3x0",
    "pycharm": {
     "name": "#%% md\n"
    }
   },
   "source": [
    "**The validation loss measures the model's certainty about its prediction, whereas any metric using predictions rather than probabilities do not take the certainty of the model into account. Thus, I prefer validation loss over other metrics such as accuracy and f1 score.**"
   ]
  },
  {
   "cell_type": "markdown",
   "metadata": {
    "id": "QMin6YgCgAJa",
    "pycharm": {
     "name": "#%% md\n"
    }
   },
   "source": [
    "### Training [12 points]"
   ]
  },
  {
   "cell_type": "code",
   "execution_count": null,
   "metadata": {
    "id": "bmV69xm_gAJa",
    "outputId": "7db7a18c-2147-4c38-b532-63efd3c22c0e",
    "pycharm": {
     "name": "#%%\n"
    }
   },
   "outputs": [
    {
     "name": "stderr",
     "output_type": "stream",
     "text": [
      "Epoch: 1/30: 100%|███| 13/13 [00:12<00:00,  1.08it/s, train_loss=1.3825, train_acc=0.43, val_loss=1.3771, val_acc=0.57]\n",
      "Epoch: 2/30: 100%|███| 13/13 [00:10<00:00,  1.20it/s, train_loss=1.3696, train_acc=0.55, val_loss=1.3595, val_acc=0.58]\n",
      "Epoch: 3/30: 100%|███| 13/13 [00:11<00:00,  1.17it/s, train_loss=1.3451, train_acc=0.52, val_loss=1.3244, val_acc=0.51]\n",
      "Epoch: 4/30: 100%|███| 13/13 [00:11<00:00,  1.15it/s, train_loss=1.3005, train_acc=0.51, val_loss=1.2649, val_acc=0.51]\n",
      "Epoch: 5/30: 100%|███| 13/13 [00:11<00:00,  1.17it/s, train_loss=1.2371, train_acc=0.51, val_loss=1.1999, val_acc=0.51]\n",
      "Epoch: 6/30: 100%|███| 13/13 [00:10<00:00,  1.19it/s, train_loss=1.1810, train_acc=0.52, val_loss=1.1534, val_acc=0.61]\n",
      "Epoch: 7/30: 100%|███| 13/13 [00:10<00:00,  1.19it/s, train_loss=1.1376, train_acc=0.65, val_loss=1.1194, val_acc=0.67]\n",
      "Epoch: 8/30: 100%|███| 13/13 [00:10<00:00,  1.19it/s, train_loss=1.1060, train_acc=0.69, val_loss=1.0954, val_acc=0.67]\n",
      "Epoch: 9/30: 100%|███| 13/13 [00:10<00:00,  1.19it/s, train_loss=1.0824, train_acc=0.70, val_loss=1.0797, val_acc=0.68]\n",
      "Epoch: 10/30: 100%|██| 13/13 [00:10<00:00,  1.18it/s, train_loss=1.0652, train_acc=0.70, val_loss=1.0670, val_acc=0.70]\n",
      "Epoch: 11/30: 100%|██| 13/13 [00:10<00:00,  1.19it/s, train_loss=1.0519, train_acc=0.71, val_loss=1.0534, val_acc=0.69]\n",
      "Epoch: 12/30: 100%|██| 13/13 [00:10<00:00,  1.19it/s, train_loss=1.0388, train_acc=0.71, val_loss=1.0342, val_acc=0.70]\n",
      "Epoch: 13/30: 100%|██| 13/13 [00:11<00:00,  1.18it/s, train_loss=1.0262, train_acc=0.74, val_loss=1.0167, val_acc=0.77]\n",
      "Epoch: 14/30: 100%|██| 13/13 [00:10<00:00,  1.18it/s, train_loss=1.0143, train_acc=0.76, val_loss=1.0060, val_acc=0.76]\n",
      "Epoch: 15/30: 100%|██| 13/13 [00:10<00:00,  1.19it/s, train_loss=1.0017, train_acc=0.77, val_loss=0.9888, val_acc=0.80]\n",
      "Epoch: 16/30: 100%|██| 13/13 [00:10<00:00,  1.18it/s, train_loss=0.9908, train_acc=0.79, val_loss=0.9787, val_acc=0.80]\n",
      "Epoch: 17/30: 100%|██| 13/13 [00:11<00:00,  1.18it/s, train_loss=0.9798, train_acc=0.79, val_loss=0.9654, val_acc=0.82]\n",
      "Epoch: 18/30: 100%|██| 13/13 [00:11<00:00,  1.17it/s, train_loss=0.9712, train_acc=0.80, val_loss=0.9583, val_acc=0.82]\n",
      "Epoch: 19/30: 100%|██| 13/13 [00:10<00:00,  1.18it/s, train_loss=0.9629, train_acc=0.80, val_loss=0.9497, val_acc=0.82]\n",
      "Epoch: 20/30: 100%|██| 13/13 [00:10<00:00,  1.18it/s, train_loss=0.9565, train_acc=0.81, val_loss=0.9453, val_acc=0.82]\n",
      "Epoch: 21/30: 100%|██| 13/13 [00:10<00:00,  1.19it/s, train_loss=0.9503, train_acc=0.82, val_loss=0.9402, val_acc=0.83]\n",
      "Epoch: 22/30: 100%|██| 13/13 [00:11<00:00,  1.18it/s, train_loss=0.9452, train_acc=0.82, val_loss=0.9372, val_acc=0.84]\n",
      "Epoch: 23/30: 100%|██| 13/13 [00:11<00:00,  1.17it/s, train_loss=0.9403, train_acc=0.82, val_loss=0.9337, val_acc=0.84]\n",
      "Epoch: 24/30: 100%|██| 13/13 [00:11<00:00,  1.18it/s, train_loss=0.9358, train_acc=0.82, val_loss=0.9315, val_acc=0.84]\n",
      "Epoch: 25/30: 100%|██| 13/13 [00:11<00:00,  1.18it/s, train_loss=0.9317, train_acc=0.83, val_loss=0.9291, val_acc=0.85]\n",
      "Epoch: 26/30: 100%|██| 13/13 [00:10<00:00,  1.18it/s, train_loss=0.9278, train_acc=0.84, val_loss=0.9271, val_acc=0.85]\n",
      "Epoch: 27/30: 100%|██| 13/13 [00:10<00:00,  1.18it/s, train_loss=0.9243, train_acc=0.85, val_loss=0.9253, val_acc=0.85]\n",
      "Epoch: 28/30: 100%|██| 13/13 [00:11<00:00,  1.17it/s, train_loss=0.9209, train_acc=0.85, val_loss=0.9237, val_acc=0.85]\n",
      "Epoch: 29/30: 100%|██| 13/13 [00:11<00:00,  1.17it/s, train_loss=0.9178, train_acc=0.85, val_loss=0.9221, val_acc=0.85]\n",
      "Epoch: 30/30: 100%|██| 13/13 [00:11<00:00,  1.18it/s, train_loss=0.9147, train_acc=0.85, val_loss=0.9205, val_acc=0.85]\n"
     ]
    }
   ],
   "source": [
    "#Pick your hyper parameters\n",
    "max_epoch = 30\n",
    "train_batch = 64\n",
    "test_batch = 64\n",
    "learning_rate = 1e-3\n",
    "momentum = 0.95\n",
    "weight_decay = 1e-4\n",
    "\n",
    "history = train(FCNet, 'fcn', max_epoch, train_batch, test_batch, learning_rate,\n",
    "                momentum, weight_decay, train_dataset, val_dataset)"
   ]
  },
  {
   "cell_type": "markdown",
   "metadata": {
    "id": "AerO0TZ0gAJa",
    "pycharm": {
     "name": "#%% md\n"
    }
   },
   "source": [
    "### Learning Process Analysis [5 points]\n",
    "Following the training step, you will now provide accuracy and loss plots over all epochs. For this, provide two plots:\n",
    "- In the first plot, you will provide the value of the accuracy metric over epochs. Your plot should include two curves, one for the training set and the other for the validation set.\n",
    "- For the second plot, provide the curve for loss values over epochs. Again your plot should include two curves, where one indicates loss on the training set and the second indicates loss for the validation set."
   ]
  },
  {
   "cell_type": "markdown",
   "metadata": {
    "id": "VxPtECMnz3x1",
    "pycharm": {
     "name": "#%% md\n"
    }
   },
   "source": [
    "**Please check the \"Helper functions\" subsection above. the plotting script is implemented there.**"
   ]
  },
  {
   "cell_type": "code",
   "execution_count": null,
   "metadata": {
    "id": "ImQu4V70z3x1",
    "outputId": "4f3357f5-b5f6-4ff2-8a7c-0ac3fa9440ed",
    "pycharm": {
     "name": "#%%\n"
    }
   },
   "outputs": [
    {
     "data": {
      "image/png": "[encoded data removed]",
      "text/plain": [
       "<Figure size 1080x360 with 2 Axes>"
      ]
     },
     "metadata": {
      "needs_background": "light"
     },
     "output_type": "display_data"
    }
   ],
   "source": [
    "plot_accuracy_curves(history)"
   ]
  },
  {
   "cell_type": "code",
   "execution_count": null,
   "metadata": {
    "id": "iiXtRpe9RI11",
    "outputId": "3a382c2e-dc64-49b2-8228-ce1fd71ac041",
    "pycharm": {
     "name": "#%%\n"
    }
   },
   "outputs": [
    {
     "data": {
      "image/png": "[encoded data removed]",
      "text/plain": [
       "<Figure size 1080x360 with 2 Axes>"
      ]
     },
     "metadata": {
      "needs_background": "light"
     },
     "output_type": "display_data"
    }
   ],
   "source": [
    "plot_loss_curves(history)"
   ]
  },
  {
   "cell_type": "markdown",
   "metadata": {
    "id": "y0ZcDuLQQysp",
    "pycharm": {
     "name": "#%% md\n"
    }
   },
   "source": [
    "### Test [5 points]\n",
    "As the final step of your analysis, you will test your model using some metrics. For the best model you obtained during training, evaluate your model on the test set. Then, report the confusion matrix. Finally, report accuracy, precision, recall, and $F_1$ score using your model. Report all these metrics using the macro form (macro precision, macro recall, etc.). You can implement these metrics in the cell below. "
   ]
  },
  {
   "cell_type": "markdown",
   "metadata": {
    "id": "2eDyBCrez3x3",
    "pycharm": {
     "name": "#%% md\n"
    }
   },
   "source": [
    "**Please check the \"Helper functions\" subsection above. The evaluation script is implemented there.**"
   ]
  },
  {
   "cell_type": "code",
   "execution_count": null,
   "metadata": {
    "id": "ptAiYhAIR6O5",
    "pycharm": {
     "name": "#%%\n"
    }
   },
   "outputs": [],
   "source": [
    "best_model = get_best_model(FCNet, 'fcn').to(device)"
   ]
  },
  {
   "cell_type": "code",
   "execution_count": null,
   "metadata": {
    "id": "-hB0kHSEz3x3",
    "pycharm": {
     "name": "#%%\n"
    }
   },
   "outputs": [],
   "source": [
    "loss, accuracy, precision, recall, f1, cm = evaluate(best_model, test_dataset)"
   ]
  },
  {
   "cell_type": "code",
   "execution_count": null,
   "metadata": {
    "id": "z3sJKZVXz3x3",
    "outputId": "e5b6d555-3f03-4226-c138-5798a3ef041d",
    "pycharm": {
     "name": "#%%\n"
    }
   },
   "outputs": [
    {
     "data": {
      "image/png": "[encoded data removed]",
      "text/plain": [
       "<Figure size 432x288 with 2 Axes>"
      ]
     },
     "metadata": {
      "needs_background": "light"
     },
     "output_type": "display_data"
    }
   ],
   "source": [
    "plot_confusion_matrix(cm)"
   ]
  },
  {
   "cell_type": "code",
   "execution_count": null,
   "metadata": {
    "id": "BRcEL0Vkz3x4",
    "outputId": "e2faded2-66f4-47dc-e0bc-fe84dd5ec6d0",
    "pycharm": {
     "name": "#%%\n"
    }
   },
   "outputs": [
    {
     "name": "stdout",
     "output_type": "stream",
     "text": [
      "╒═══════════╤══════════╕\n",
      "│ Metric    │    Score │\n",
      "╞═══════════╪══════════╡\n",
      "│ Loss      │ 0.986686 │\n",
      "├───────────┼──────────┤\n",
      "│ Accuracy  │ 0.722673 │\n",
      "├───────────┼──────────┤\n",
      "│ Precision │ 0.744473 │\n",
      "├───────────┼──────────┤\n",
      "│ Recall    │ 0.722673 │\n",
      "├───────────┼──────────┤\n",
      "│ F1        │ 0.724142 │\n",
      "╘═══════════╧══════════╛\n"
     ]
    }
   ],
   "source": [
    "show_results(loss, accuracy, precision, recall, f1)"
   ]
  },
  {
   "cell_type": "markdown",
   "metadata": {
    "id": "fVgI--N4B7lR",
    "pycharm": {
     "name": "#%% md\n"
    }
   },
   "source": [
    "## Training and evaluation of CNN [22 points]\n",
    "Similar to the FCN model, you will now train the CNN model that you defined before. Again you are free to try out different hyperparameters. This model also will classify weather images with the four classes provided by the dataset. As the optimizer, again, use the SGD implementation provided by PyTorch. You can implement the training loop in the following cell. \n",
    "\n",
    "Similar to the training procedure, you need to save the best model you obtain during training. Select an appropriate criterion (metric) to save the best model. If you wish, you can add a markdown cell to explain your reasoning."
   ]
  },
  {
   "cell_type": "markdown",
   "metadata": {
    "id": "LVS4nCE8z3x4",
    "pycharm": {
     "name": "#%% md\n"
    }
   },
   "source": [
    "**The validation loss measures the model's certainty about its prediction, whereas any metric using predictions rather than probabilities do not take the certainty of the model into account. Thus, I prefer validation loss over other metrics such as accuracy and f1 score.**"
   ]
  },
  {
   "cell_type": "markdown",
   "metadata": {
    "id": "mw1OF9Fl42Bc",
    "pycharm": {
     "name": "#%% md\n"
    }
   },
   "source": [
    "### Training [12 points]"
   ]
  },
  {
   "cell_type": "code",
   "execution_count": null,
   "metadata": {
    "id": "gsEdzn4ON9fx",
    "outputId": "e262e953-fbc2-446a-e384-cd777df47e2c",
    "pycharm": {
     "name": "#%%\n"
    },
    "scrolled": false
   },
   "outputs": [
    {
     "name": "stderr",
     "output_type": "stream",
     "text": [
      "Epoch: 1/100: 100%|██| 13/13 [00:09<00:00,  1.40it/s, train_loss=1.3854, train_acc=0.29, val_loss=1.3849, val_acc=0.33]\n",
      "Epoch: 2/100: 100%|██| 13/13 [00:09<00:00,  1.38it/s, train_loss=1.3838, train_acc=0.32, val_loss=1.3836, val_acc=0.33]\n",
      "Epoch: 3/100: 100%|██| 13/13 [00:09<00:00,  1.42it/s, train_loss=1.3823, train_acc=0.32, val_loss=1.3823, val_acc=0.33]\n",
      "Epoch: 4/100: 100%|██| 13/13 [00:09<00:00,  1.43it/s, train_loss=1.3807, train_acc=0.32, val_loss=1.3809, val_acc=0.33]\n",
      "Epoch: 5/100: 100%|██| 13/13 [00:09<00:00,  1.41it/s, train_loss=1.3791, train_acc=0.32, val_loss=1.3793, val_acc=0.33]\n",
      "Epoch: 6/100: 100%|██| 13/13 [00:09<00:00,  1.44it/s, train_loss=1.3771, train_acc=0.32, val_loss=1.3772, val_acc=0.33]\n",
      "Epoch: 7/100: 100%|██| 13/13 [00:09<00:00,  1.42it/s, train_loss=1.3745, train_acc=0.32, val_loss=1.3741, val_acc=0.33]\n",
      "Epoch: 8/100: 100%|██| 13/13 [00:09<00:00,  1.44it/s, train_loss=1.3702, train_acc=0.32, val_loss=1.3685, val_acc=0.33]\n",
      "Epoch: 9/100: 100%|██| 13/13 [00:09<00:00,  1.44it/s, train_loss=1.3612, train_acc=0.35, val_loss=1.3540, val_acc=0.54]\n",
      "Epoch: 10/100: 100%|█| 13/13 [00:09<00:00,  1.44it/s, train_loss=1.3275, train_acc=0.53, val_loss=1.2763, val_acc=0.51]\n",
      "Epoch: 11/100: 100%|█| 13/13 [00:08<00:00,  1.54it/s, train_loss=1.2481, train_acc=0.48, val_loss=1.3148, val_acc=0.35]\n",
      "Epoch: 12/100: 100%|█| 13/13 [00:09<00:00,  1.41it/s, train_loss=1.1935, train_acc=0.52, val_loss=1.1468, val_acc=0.53]\n",
      "Epoch: 13/100: 100%|█| 13/13 [00:08<00:00,  1.56it/s, train_loss=1.1370, train_acc=0.60, val_loss=1.2302, val_acc=0.49]\n",
      "Epoch: 14/100: 100%|█| 13/13 [00:09<00:00,  1.43it/s, train_loss=1.1105, train_acc=0.63, val_loss=1.0933, val_acc=0.63]\n",
      "Epoch: 15/100: 100%|█| 13/13 [00:09<00:00,  1.39it/s, train_loss=1.0798, train_acc=0.65, val_loss=1.0636, val_acc=0.72]\n",
      "Epoch: 16/100: 100%|█| 13/13 [00:09<00:00,  1.40it/s, train_loss=1.0445, train_acc=0.70, val_loss=1.0141, val_acc=0.76]\n",
      "Epoch: 17/100: 100%|█| 13/13 [00:09<00:00,  1.40it/s, train_loss=1.0082, train_acc=0.72, val_loss=0.9960, val_acc=0.77]\n",
      "Epoch: 18/100: 100%|█| 13/13 [00:08<00:00,  1.52it/s, train_loss=0.9845, train_acc=0.75, val_loss=1.1247, val_acc=0.62]\n",
      "Epoch: 19/100: 100%|█| 13/13 [00:08<00:00,  1.55it/s, train_loss=1.0381, train_acc=0.70, val_loss=1.0074, val_acc=0.73]\n",
      "Epoch: 20/100: 100%|█| 13/13 [00:09<00:00,  1.43it/s, train_loss=0.9626, train_acc=0.78, val_loss=0.9644, val_acc=0.78]\n",
      "Epoch: 21/100: 100%|█| 13/13 [00:09<00:00,  1.41it/s, train_loss=0.9643, train_acc=0.78, val_loss=0.9609, val_acc=0.77]\n",
      "Epoch: 22/100: 100%|█| 13/13 [00:09<00:00,  1.41it/s, train_loss=0.9456, train_acc=0.80, val_loss=0.9408, val_acc=0.78]\n",
      "Epoch: 23/100: 100%|█| 13/13 [00:08<00:00,  1.55it/s, train_loss=0.9516, train_acc=0.78, val_loss=1.0691, val_acc=0.67]\n",
      "Epoch: 24/100: 100%|█| 13/13 [00:08<00:00,  1.57it/s, train_loss=0.9479, train_acc=0.79, val_loss=1.0599, val_acc=0.66]\n",
      "Epoch: 25/100: 100%|█| 13/13 [00:08<00:00,  1.57it/s, train_loss=0.9576, train_acc=0.78, val_loss=0.9536, val_acc=0.79]\n",
      "Epoch: 26/100: 100%|█| 13/13 [00:08<00:00,  1.57it/s, train_loss=0.9669, train_acc=0.77, val_loss=1.1459, val_acc=0.60]\n",
      "Epoch: 27/100: 100%|█| 13/13 [00:08<00:00,  1.57it/s, train_loss=1.0229, train_acc=0.72, val_loss=0.9927, val_acc=0.73]\n",
      "Epoch: 28/100: 100%|█| 13/13 [00:08<00:00,  1.56it/s, train_loss=0.9186, train_acc=0.82, val_loss=1.0405, val_acc=0.69]\n",
      "Epoch: 29/100: 100%|█| 13/13 [00:08<00:00,  1.56it/s, train_loss=0.9902, train_acc=0.75, val_loss=0.9433, val_acc=0.80]\n",
      "Epoch: 30/100: 100%|█| 13/13 [00:09<00:00,  1.43it/s, train_loss=0.9206, train_acc=0.82, val_loss=0.9249, val_acc=0.81]\n",
      "Epoch: 31/100: 100%|█| 13/13 [00:08<00:00,  1.56it/s, train_loss=0.8970, train_acc=0.85, val_loss=1.0349, val_acc=0.69]\n",
      "Epoch: 32/100: 100%|█| 13/13 [00:08<00:00,  1.56it/s, train_loss=0.9430, train_acc=0.80, val_loss=0.9820, val_acc=0.77]\n",
      "Epoch: 33/100: 100%|█| 13/13 [00:08<00:00,  1.55it/s, train_loss=0.9429, train_acc=0.80, val_loss=0.9464, val_acc=0.80]\n",
      "Epoch: 34/100: 100%|█| 13/13 [00:08<00:00,  1.55it/s, train_loss=0.9169, train_acc=0.82, val_loss=0.9788, val_acc=0.74]\n",
      "Epoch: 35/100: 100%|█| 13/13 [00:08<00:00,  1.55it/s, train_loss=0.9345, train_acc=0.81, val_loss=1.0152, val_acc=0.72]\n",
      "Epoch: 36/100: 100%|█| 13/13 [00:08<00:00,  1.56it/s, train_loss=0.9303, train_acc=0.81, val_loss=1.0590, val_acc=0.67]\n",
      "Epoch: 37/100: 100%|█| 13/13 [00:08<00:00,  1.57it/s, train_loss=0.9363, train_acc=0.80, val_loss=0.9832, val_acc=0.76]\n",
      "Epoch: 38/100: 100%|█| 13/13 [00:08<00:00,  1.57it/s, train_loss=0.9133, train_acc=0.83, val_loss=0.9846, val_acc=0.75]\n",
      "Epoch: 39/100: 100%|█| 13/13 [00:08<00:00,  1.57it/s, train_loss=0.9102, train_acc=0.83, val_loss=1.0002, val_acc=0.74]\n",
      "Epoch: 40/100: 100%|█| 13/13 [00:08<00:00,  1.57it/s, train_loss=0.9062, train_acc=0.83, val_loss=0.9631, val_acc=0.78]\n",
      "Epoch: 41/100: 100%|█| 13/13 [00:08<00:00,  1.56it/s, train_loss=0.8952, train_acc=0.84, val_loss=0.9772, val_acc=0.76]\n",
      "Epoch: 42/100: 100%|█| 13/13 [00:09<00:00,  1.43it/s, train_loss=0.9483, train_acc=0.79, val_loss=0.8987, val_acc=0.85]\n",
      "Epoch: 43/100: 100%|█| 13/13 [00:08<00:00,  1.57it/s, train_loss=0.8971, train_acc=0.84, val_loss=0.8991, val_acc=0.85]\n",
      "Epoch: 44/100: 100%|█| 13/13 [00:08<00:00,  1.57it/s, train_loss=0.8911, train_acc=0.85, val_loss=0.9305, val_acc=0.82]\n",
      "Epoch: 45/100: 100%|█| 13/13 [00:08<00:00,  1.57it/s, train_loss=0.9052, train_acc=0.83, val_loss=0.9161, val_acc=0.81]\n",
      "Epoch: 46/100: 100%|█| 13/13 [00:09<00:00,  1.44it/s, train_loss=0.8822, train_acc=0.86, val_loss=0.8936, val_acc=0.85]\n",
      "Epoch: 47/100: 100%|█| 13/13 [00:08<00:00,  1.57it/s, train_loss=0.8725, train_acc=0.87, val_loss=0.9539, val_acc=0.79]\n",
      "Epoch: 48/100: 100%|█| 13/13 [00:08<00:00,  1.57it/s, train_loss=0.8784, train_acc=0.86, val_loss=0.9070, val_acc=0.84]\n",
      "Epoch: 49/100: 100%|█| 13/13 [00:08<00:00,  1.57it/s, train_loss=0.8615, train_acc=0.88, val_loss=0.8976, val_acc=0.85]\n",
      "Epoch: 50/100: 100%|█| 13/13 [00:09<00:00,  1.44it/s, train_loss=0.8571, train_acc=0.88, val_loss=0.8916, val_acc=0.86]\n",
      "Epoch: 51/100: 100%|█| 13/13 [00:08<00:00,  1.56it/s, train_loss=0.8439, train_acc=0.90, val_loss=0.8993, val_acc=0.84]\n",
      "Epoch: 52/100: 100%|█| 13/13 [00:08<00:00,  1.57it/s, train_loss=0.8409, train_acc=0.90, val_loss=0.9114, val_acc=0.83]\n",
      "Epoch: 53/100: 100%|█| 13/13 [00:08<00:00,  1.57it/s, train_loss=0.8550, train_acc=0.88, val_loss=0.8945, val_acc=0.85]\n",
      "Epoch: 54/100: 100%|█| 13/13 [00:08<00:00,  1.56it/s, train_loss=0.8441, train_acc=0.90, val_loss=0.9137, val_acc=0.82]\n",
      "Epoch: 55/100: 100%|█| 13/13 [00:08<00:00,  1.57it/s, train_loss=0.8455, train_acc=0.90, val_loss=0.9168, val_acc=0.84]\n",
      "Epoch: 56/100: 100%|█| 13/13 [00:08<00:00,  1.52it/s, train_loss=0.8488, train_acc=0.89, val_loss=0.9152, val_acc=0.82]\n",
      "Epoch: 57/100: 100%|█| 13/13 [00:08<00:00,  1.50it/s, train_loss=0.8563, train_acc=0.89, val_loss=0.9397, val_acc=0.80]\n",
      "Epoch: 58/100: 100%|█| 13/13 [00:08<00:00,  1.57it/s, train_loss=0.8603, train_acc=0.88, val_loss=0.9389, val_acc=0.81]\n",
      "Epoch: 59/100: 100%|█| 13/13 [00:08<00:00,  1.57it/s, train_loss=0.8389, train_acc=0.91, val_loss=0.9534, val_acc=0.78]\n",
      "Epoch: 60/100: 100%|█| 13/13 [00:08<00:00,  1.54it/s, train_loss=0.8417, train_acc=0.90, val_loss=0.8985, val_acc=0.84]\n",
      "Epoch: 61/100: 100%|█| 13/13 [00:08<00:00,  1.56it/s, train_loss=0.8367, train_acc=0.91, val_loss=0.8979, val_acc=0.84]\n",
      "Epoch: 62/100: 100%|█| 13/13 [00:09<00:00,  1.43it/s, train_loss=0.8369, train_acc=0.91, val_loss=0.8895, val_acc=0.85]\n",
      "Epoch: 63/100: 100%|█| 13/13 [00:08<00:00,  1.56it/s, train_loss=0.8577, train_acc=0.88, val_loss=0.9581, val_acc=0.79]\n",
      "Epoch: 64/100: 100%|█| 13/13 [00:08<00:00,  1.57it/s, train_loss=0.8785, train_acc=0.86, val_loss=0.8981, val_acc=0.84]\n",
      "Epoch: 65/100: 100%|█| 13/13 [00:08<00:00,  1.57it/s, train_loss=0.8435, train_acc=0.90, val_loss=0.9110, val_acc=0.82]\n",
      "Epoch: 66/100: 100%|█| 13/13 [00:09<00:00,  1.44it/s, train_loss=0.8383, train_acc=0.91, val_loss=0.8878, val_acc=0.86]\n",
      "Epoch: 67/100: 100%|█| 13/13 [00:08<00:00,  1.57it/s, train_loss=0.8335, train_acc=0.91, val_loss=0.9149, val_acc=0.82]\n",
      "Epoch: 68/100: 100%|█| 13/13 [00:08<00:00,  1.57it/s, train_loss=0.8431, train_acc=0.91, val_loss=0.8883, val_acc=0.85]\n",
      "Epoch: 69/100: 100%|█| 13/13 [00:08<00:00,  1.57it/s, train_loss=0.8226, train_acc=0.92, val_loss=0.9076, val_acc=0.84]\n",
      "Epoch: 70/100: 100%|█| 13/13 [00:08<00:00,  1.56it/s, train_loss=0.8312, train_acc=0.91, val_loss=0.8960, val_acc=0.84]\n",
      "Epoch: 71/100: 100%|█| 13/13 [00:08<00:00,  1.56it/s, train_loss=0.8185, train_acc=0.93, val_loss=0.8989, val_acc=0.85]\n",
      "Epoch: 72/100: 100%|█| 13/13 [00:08<00:00,  1.56it/s, train_loss=0.8306, train_acc=0.91, val_loss=0.8940, val_acc=0.85]\n",
      "Epoch: 73/100: 100%|█| 13/13 [00:09<00:00,  1.42it/s, train_loss=0.8210, train_acc=0.92, val_loss=0.8843, val_acc=0.86]\n",
      "Epoch: 74/100: 100%|█| 13/13 [00:08<00:00,  1.57it/s, train_loss=0.8322, train_acc=0.91, val_loss=0.9045, val_acc=0.84]\n",
      "Epoch: 75/100: 100%|█| 13/13 [00:08<00:00,  1.57it/s, train_loss=0.8182, train_acc=0.93, val_loss=0.8919, val_acc=0.86]\n",
      "Epoch: 76/100: 100%|█| 13/13 [00:08<00:00,  1.57it/s, train_loss=0.8191, train_acc=0.93, val_loss=0.9134, val_acc=0.84]\n",
      "Epoch: 77/100: 100%|█| 13/13 [00:08<00:00,  1.56it/s, train_loss=0.8257, train_acc=0.92, val_loss=0.8892, val_acc=0.86]\n",
      "Epoch: 78/100: 100%|█| 13/13 [00:08<00:00,  1.57it/s, train_loss=0.8456, train_acc=0.90, val_loss=1.0026, val_acc=0.72]\n",
      "Epoch: 79/100: 100%|█| 13/13 [00:09<00:00,  1.44it/s, train_loss=0.8903, train_acc=0.85, val_loss=0.8839, val_acc=0.85]\n",
      "Epoch: 80/100: 100%|█| 13/13 [00:08<00:00,  1.57it/s, train_loss=0.8257, train_acc=0.92, val_loss=0.9023, val_acc=0.84]\n",
      "Epoch: 81/100: 100%|█| 13/13 [00:08<00:00,  1.57it/s, train_loss=0.8145, train_acc=0.93, val_loss=0.9488, val_acc=0.80]\n",
      "Epoch: 82/100: 100%|█| 13/13 [00:08<00:00,  1.55it/s, train_loss=0.8235, train_acc=0.92, val_loss=0.8893, val_acc=0.86]\n",
      "Epoch: 83/100: 100%|█| 13/13 [00:08<00:00,  1.56it/s, train_loss=0.8123, train_acc=0.93, val_loss=0.8912, val_acc=0.85]\n",
      "Epoch: 84/100: 100%|█| 13/13 [00:08<00:00,  1.56it/s, train_loss=0.8146, train_acc=0.93, val_loss=0.9141, val_acc=0.83]\n",
      "Epoch: 85/100: 100%|█| 13/13 [00:09<00:00,  1.42it/s, train_loss=0.8170, train_acc=0.93, val_loss=0.8829, val_acc=0.86]\n",
      "Epoch: 86/100: 100%|█| 13/13 [00:08<00:00,  1.56it/s, train_loss=0.8163, train_acc=0.92, val_loss=0.9006, val_acc=0.84]\n",
      "Epoch: 87/100: 100%|█| 13/13 [00:08<00:00,  1.57it/s, train_loss=0.8201, train_acc=0.92, val_loss=0.9059, val_acc=0.83]\n",
      "Epoch: 88/100: 100%|█| 13/13 [00:08<00:00,  1.56it/s, train_loss=0.8233, train_acc=0.92, val_loss=0.9056, val_acc=0.84]\n",
      "Epoch: 89/100: 100%|█| 13/13 [00:08<00:00,  1.57it/s, train_loss=0.8245, train_acc=0.92, val_loss=0.9242, val_acc=0.82]\n",
      "Epoch: 90/100: 100%|█| 13/13 [00:08<00:00,  1.57it/s, train_loss=0.8083, train_acc=0.94, val_loss=0.9333, val_acc=0.79]\n",
      "Epoch: 91/100: 100%|█| 13/13 [00:08<00:00,  1.57it/s, train_loss=0.8059, train_acc=0.94, val_loss=0.9121, val_acc=0.83]\n",
      "Epoch: 92/100: 100%|█| 13/13 [00:08<00:00,  1.56it/s, train_loss=0.8075, train_acc=0.94, val_loss=0.9145, val_acc=0.83]\n",
      "Epoch: 93/100: 100%|█| 13/13 [00:08<00:00,  1.55it/s, train_loss=0.8114, train_acc=0.93, val_loss=0.9751, val_acc=0.76]\n",
      "Epoch: 94/100: 100%|█| 13/13 [00:08<00:00,  1.56it/s, train_loss=0.8254, train_acc=0.92, val_loss=0.9194, val_acc=0.83]\n",
      "Epoch: 95/100: 100%|█| 13/13 [00:08<00:00,  1.56it/s, train_loss=0.8205, train_acc=0.92, val_loss=0.9046, val_acc=0.83]\n",
      "Epoch: 96/100: 100%|█| 13/13 [00:09<00:00,  1.43it/s, train_loss=0.8170, train_acc=0.93, val_loss=0.8804, val_acc=0.86]\n",
      "Epoch: 97/100: 100%|█| 13/13 [00:08<00:00,  1.56it/s, train_loss=0.8111, train_acc=0.93, val_loss=0.9285, val_acc=0.82]\n",
      "Epoch: 98/100: 100%|█| 13/13 [00:08<00:00,  1.57it/s, train_loss=0.8093, train_acc=0.94, val_loss=0.8980, val_acc=0.85]\n",
      "Epoch: 99/100: 100%|█| 13/13 [00:08<00:00,  1.57it/s, train_loss=0.7996, train_acc=0.94, val_loss=0.9417, val_acc=0.79]\n",
      "Epoch: 100/100: 100%|█| 13/13 [00:09<00:00,  1.44it/s, train_loss=0.8069, train_acc=0.94, val_loss=0.8801, val_acc=0.86\n"
     ]
    }
   ],
   "source": [
    "max_epoch = 100\n",
    "train_batch = 64\n",
    "test_batch = 64\n",
    "learning_rate = 3e-2\n",
    "momentum = 0.75\n",
    "weight_decay = 1e-4\n",
    "\n",
    "history = train(ConvNet, 'cnn', max_epoch, train_batch, test_batch, learning_rate,\n",
    "                momentum, weight_decay, train_dataset, val_dataset)"
   ]
  },
  {
   "cell_type": "markdown",
   "metadata": {
    "id": "vOiPy1hI44gy",
    "pycharm": {
     "name": "#%% md\n"
    }
   },
   "source": [
    "### Learning Process Analysis [3 points]\n",
    "Repeating the same procedure you applied for the FCN model; you will provide two plots about how your training proceeds over epochs. Again, provide two plots: one summarizes the loss values, and the other summarizes the accuracy values. Note that each plot needs to include two curves, one for the validation set and the other for the training set."
   ]
  },
  {
   "cell_type": "markdown",
   "metadata": {
    "id": "FwWwtmPcz3x5",
    "pycharm": {
     "name": "#%% md\n"
    }
   },
   "source": [
    "**Please check the \"Helper functions\" subsection above. the plotting script is implemented there.**"
   ]
  },
  {
   "cell_type": "code",
   "execution_count": null,
   "metadata": {
    "id": "hx2Izbziz3x5",
    "outputId": "f13794ba-11e2-41c9-fd4e-83c7f3ff2d64",
    "pycharm": {
     "name": "#%%\n"
    }
   },
   "outputs": [
    {
     "data": {
      "image/png": "[encoded data removed]",
      "text/plain": [
       "<Figure size 1080x360 with 2 Axes>"
      ]
     },
     "metadata": {
      "needs_background": "light"
     },
     "output_type": "display_data"
    }
   ],
   "source": [
    "plot_accuracy_curves(history)"
   ]
  },
  {
   "cell_type": "code",
   "execution_count": null,
   "metadata": {
    "id": "lFwAi_zPelX6",
    "outputId": "7243ac56-5709-4c06-a341-74289a0ce282",
    "pycharm": {
     "name": "#%%\n"
    }
   },
   "outputs": [
    {
     "data": {
      "image/png": "[encoded data removed]",
      "text/plain": [
       "<Figure size 1080x360 with 2 Axes>"
      ]
     },
     "metadata": {
      "needs_background": "light"
     },
     "output_type": "display_data"
    }
   ],
   "source": [
    "plot_loss_curves(history)"
   ]
  },
  {
   "cell_type": "markdown",
   "metadata": {
    "id": "2Ccx_9g54-GS",
    "pycharm": {
     "name": "#%% md\n"
    }
   },
   "source": [
    "### Test [4 points]\n",
    "Concluding your analysis, report the confusion matrix for the best model you obtained during your CNN model training. Then using this confusion matrix, report accuracy, recall, precision, and $F_1$ score for your best model. Use macro averaging in all of your metrics."
   ]
  },
  {
   "cell_type": "markdown",
   "metadata": {
    "id": "F2ZPnOjMz3x6",
    "pycharm": {
     "name": "#%% md\n"
    }
   },
   "source": [
    "**Please check the \"Helper functions\" subsection above. The evaluation script is implemented there.**"
   ]
  },
  {
   "cell_type": "code",
   "execution_count": null,
   "metadata": {
    "id": "t7USNWHYemYo",
    "pycharm": {
     "name": "#%%\n"
    }
   },
   "outputs": [],
   "source": [
    "best_model = get_best_model(ConvNet, 'cnn').to(device)"
   ]
  },
  {
   "cell_type": "code",
   "execution_count": null,
   "metadata": {
    "id": "aIewQL3_z3x6",
    "pycharm": {
     "name": "#%%\n"
    }
   },
   "outputs": [],
   "source": [
    "loss, accuracy, precision, recall, f1, cm = evaluate(best_model, test_dataset)"
   ]
  },
  {
   "cell_type": "code",
   "execution_count": null,
   "metadata": {
    "id": "QJaPXZcKz3x7",
    "outputId": "dc452e65-ddc1-4dd2-d914-fb31c20d4bcd",
    "pycharm": {
     "name": "#%%\n"
    }
   },
   "outputs": [
    {
     "data": {
      "image/png": "[encoded data removed]",
      "text/plain": [
       "<Figure size 432x288 with 2 Axes>"
      ]
     },
     "metadata": {
      "needs_background": "light"
     },
     "output_type": "display_data"
    }
   ],
   "source": [
    "plot_confusion_matrix(cm)"
   ]
  },
  {
   "cell_type": "code",
   "execution_count": null,
   "metadata": {
    "id": "ejONomYZz3x7",
    "outputId": "6baf28c7-3239-4ca5-f1cb-a6700f25260a",
    "pycharm": {
     "name": "#%%\n"
    }
   },
   "outputs": [
    {
     "name": "stdout",
     "output_type": "stream",
     "text": [
      "╒═══════════╤══════════╕\n",
      "│ Metric    │    Score │\n",
      "╞═══════════╪══════════╡\n",
      "│ Loss      │ 0.910282 │\n",
      "├───────────┼──────────┤\n",
      "│ Accuracy  │ 0.80658  │\n",
      "├───────────┼──────────┤\n",
      "│ Precision │ 0.820249 │\n",
      "├───────────┼──────────┤\n",
      "│ Recall    │ 0.80658  │\n",
      "├───────────┼──────────┤\n",
      "│ F1        │ 0.808732 │\n",
      "╘═══════════╧══════════╛\n"
     ]
    }
   ],
   "source": [
    "show_results(loss, accuracy, precision, recall, f1)"
   ]
  },
  {
   "cell_type": "markdown",
   "metadata": {
    "id": "vPK3UZ9besKr",
    "pycharm": {
     "name": "#%% md\n"
    }
   },
   "source": [
    "### Discussion [3 points]\n",
    "Now, try to compare the two models that you trained. How different are these two models regarding the number of parameters used?\n",
    "\n",
    "Explain your findings by connecting them with your experimental results. You can include your comments on a separate Markdown cell or below the question statement."
   ]
  },
  {
   "cell_type": "code",
   "execution_count": null,
   "metadata": {
    "id": "dWRz2yAUz3x7",
    "outputId": "543a8253-ea68-4e22-cf4b-e181dd99ac19",
    "pycharm": {
     "name": "#%%\n"
    }
   },
   "outputs": [
    {
     "name": "stdout",
     "output_type": "stream",
     "text": [
      "Total number of parameters in the fully connected model: 154798852\n"
     ]
    }
   ],
   "source": [
    "total_params_fc = sum(p.numel() for p in FCNet().parameters())\n",
    "print('Total number of parameters in the fully connected model:', total_params_fc)"
   ]
  },
  {
   "cell_type": "code",
   "execution_count": null,
   "metadata": {
    "id": "qaPKMpjkz3x8",
    "outputId": "729391b8-1df0-4bb7-f176-f5363bee06bf",
    "pycharm": {
     "name": "#%%\n"
    }
   },
   "outputs": [
    {
     "name": "stdout",
     "output_type": "stream",
     "text": [
      "Total number of parameters in the CNN model: 52061988\n"
     ]
    }
   ],
   "source": [
    "total_params_cnn = sum(p.numel() for p in ConvNet().parameters())\n",
    "print('Total number of parameters in the CNN model:', total_params_cnn)"
   ]
  },
  {
   "cell_type": "code",
   "execution_count": null,
   "metadata": {
    "id": "H7ubmi1hz3x8",
    "outputId": "0355ec1b-c015-4159-93d9-39bd6e1ea8ba",
    "pycharm": {
     "name": "#%%\n"
    }
   },
   "outputs": [
    {
     "name": "stdout",
     "output_type": "stream",
     "text": [
      "The fully connected network has 102736864 parameters more than the CNN despite the layer counts.\n"
     ]
    }
   ],
   "source": [
    "print(f'The fully connected network has {total_params_fc - total_params_cnn} parameters more than the CNN despite the layer counts.')"
   ]
  },
  {
   "cell_type": "markdown",
   "metadata": {
    "id": "pyqZEPdqz3x8",
    "pycharm": {
     "name": "#%% md\n"
    }
   },
   "source": [
    "**CNNs are really efficient in parameter count since their weights are tied. The number of parameters in a CNN layer is proportional to the kernel size, which are inherently much smaller than the image sizes, whereas the number of parameters in a fully connected layer is proportional to the image size. Therefore, CNNs have less parameters even though with more layers as in this case. CNNs makes the locality assumption; that the information of a pixel is mostly about the pixels nearby. Though this assumption might not hold for some images, CNNs still perform very well since stacking convolutional layers increases the perceptive field of the deeper convolutional neurons. In a deep CNN, a neuron in deeper layers can process information from all the image even though the kernel size is much smaller than the original image.**"
   ]
  },
  {
   "cell_type": "markdown",
   "metadata": {
    "id": "uFK0iGk8z3x9",
    "pycharm": {
     "name": "#%% md\n"
    }
   },
   "source": [
    "**In the experiments, we see that the CNN plots oscillates too much. It needs more hyperparameter tuning and more regularization since the training loss is much lower than the validation loss. We observe that CNN outperforms the fully connected network on the test set despite the lower number of weights.**"
   ]
  },
  {
   "cell_type": "markdown",
   "metadata": {
    "id": "RaSufbDNrt_H",
    "pycharm": {
     "name": "#%% md\n"
    }
   },
   "source": [
    "## Transfer Learning [22 points]\n",
    "\n",
    "As the last part of this assignment, you will practice transfer learning. In this methodology, we aim to use models trained on large-scale datasets for our task. As we do not have access to large datasets and computational resources all the time, we sometimes try to use already trained models (on other datasets) as a good starting point for our model, and then fine-tune the weights considering our task.  \n",
    "\n",
    "Torchvision library provides numerous models pretrained for specific tasks. [Here](https://pytorch.org/vision/stable/models.html), you can find a list of pretrained models. For this part, you will include [ResNet](https://arxiv.org/abs/1512.03385)-18 model, pretrained with ImageNet dataset. ImageNet is a large dataset where training from scratch would take a long time. You will fine-tune this pretrained module for your task. \n",
    "<br>\n",
    "**Hint:** You can add a Linear layer to adapt the model to the number of classes needed for your task. You can access the number of inputs to the ResNet-18 model as $\\texttt{model.fc.in_features}$ and then modify the fully connected layer of the model $\\texttt{model.fc}$.\n",
    "<br>\n",
    "\n",
    "Using the ResNet-18 backbone, implement this model's training loop (by adapting it to your task). You can implement the training procedure in the cell provided below. Again save your model based on a criterion indicating the best model. Explain the reasoning for your criteria. Use the SGD optimizer provided by PyTorch to optimize your model.\n",
    "\n",
    "Just like the previous parts, you can also tune your hyperparameters to optimize your model's performance. "
   ]
  },
  {
   "cell_type": "markdown",
   "metadata": {
    "id": "Q9MEhxLJz3x9",
    "pycharm": {
     "name": "#%% md\n"
    }
   },
   "source": [
    "**The validation loss measures the model's certainty about its prediction, whereas any metric using predictions rather than probabilities do not take the certainty of the model into account. Thus, I prefer validation loss over other metrics such as accuracy and f1 score.**"
   ]
  },
  {
   "cell_type": "markdown",
   "metadata": {
    "id": "s1O0rHumXDob",
    "pycharm": {
     "name": "#%% md\n"
    }
   },
   "source": [
    "### Training [12 points]"
   ]
  },
  {
   "cell_type": "code",
   "execution_count": null,
   "metadata": {
    "id": "LXqzN1bbz3x9",
    "pycharm": {
     "name": "#%%\n"
    }
   },
   "outputs": [],
   "source": [
    "def load_resnet18():\n",
    "    model = models.resnet18(weights=models.ResNet18_Weights.IMAGENET1K_V1)\n",
    "    for param in model.parameters():\n",
    "        param.requires_grad = False\n",
    "    model.fc = nn.Linear(model.fc.in_features, 4)\n",
    "    return model"
   ]
  },
  {
   "cell_type": "code",
   "execution_count": null,
   "metadata": {
    "id": "V6Fvqilcrz10",
    "outputId": "722f7f5d-80e4-449c-ce8d-fa2b5ae258fe",
    "pycharm": {
     "name": "#%%\n"
    }
   },
   "outputs": [
    {
     "name": "stderr",
     "output_type": "stream",
     "text": [
      "Epoch: 1/10: 100%|███| 13/13 [00:08<00:00,  1.55it/s, train_loss=1.0566, train_acc=0.58, val_loss=0.7682, val_acc=0.86]\n",
      "Epoch: 2/10: 100%|███| 13/13 [00:08<00:00,  1.62it/s, train_loss=0.5911, train_acc=0.89, val_loss=0.4418, val_acc=0.93]\n",
      "Epoch: 3/10: 100%|███| 13/13 [00:08<00:00,  1.61it/s, train_loss=0.3776, train_acc=0.93, val_loss=0.3416, val_acc=0.94]\n",
      "Epoch: 4/10: 100%|███| 13/13 [00:08<00:00,  1.62it/s, train_loss=0.2953, train_acc=0.95, val_loss=0.2917, val_acc=0.97]\n",
      "Epoch: 5/10: 100%|███| 13/13 [00:08<00:00,  1.62it/s, train_loss=0.2502, train_acc=0.96, val_loss=0.2601, val_acc=0.97]\n",
      "Epoch: 6/10: 100%|███| 13/13 [00:08<00:00,  1.62it/s, train_loss=0.2203, train_acc=0.96, val_loss=0.2385, val_acc=0.96]\n",
      "Epoch: 7/10: 100%|███| 13/13 [00:08<00:00,  1.62it/s, train_loss=0.1984, train_acc=0.96, val_loss=0.2228, val_acc=0.96]\n",
      "Epoch: 8/10: 100%|███| 13/13 [00:08<00:00,  1.62it/s, train_loss=0.1814, train_acc=0.97, val_loss=0.2108, val_acc=0.96]\n",
      "Epoch: 9/10: 100%|███| 13/13 [00:08<00:00,  1.62it/s, train_loss=0.1677, train_acc=0.98, val_loss=0.2011, val_acc=0.96]\n",
      "Epoch: 10/10: 100%|██| 13/13 [00:07<00:00,  1.63it/s, train_loss=0.1565, train_acc=0.98, val_loss=0.1933, val_acc=0.96]\n"
     ]
    }
   ],
   "source": [
    "#HINT: note that your training time should not take many days.\n",
    "\n",
    "#TODO:\n",
    "#Pick your hyper parameters\n",
    "max_epoch = 10\n",
    "train_batch = 64\n",
    "test_batch = 64\n",
    "learning_rate = 6e-3\n",
    "weight_decay = 2e-04\n",
    "\n",
    "# TODO: Implement training loop + eval using ResNet-18 model\n",
    "history = train(load_resnet18, 'resnet', max_epoch, train_batch, test_batch, learning_rate,\n",
    "                momentum, weight_decay, train_dataset, val_dataset)"
   ]
  },
  {
   "cell_type": "markdown",
   "metadata": {
    "id": "LW2aqaDEXFds",
    "pycharm": {
     "name": "#%% md\n"
    }
   },
   "source": [
    "### Learning Process Analysis [3 points]\n",
    "After training your model, provide two plots summarizing the learning procedure. Like previous parts, you will provide plots for loss value and accuracy progression over epochs. Remember that for each plot, you need to include two curves (one for the training set and one for the validation set)."
   ]
  },
  {
   "cell_type": "markdown",
   "metadata": {
    "id": "fhpPcWYwz3x-",
    "pycharm": {
     "name": "#%% md\n"
    }
   },
   "source": [
    "**Please check the \"Helper functions\" subsection above. the plotting script is implemented there.**"
   ]
  },
  {
   "cell_type": "code",
   "execution_count": null,
   "metadata": {
    "id": "esWBPBmdlqlA",
    "outputId": "4a3dbc69-cfec-4505-9788-675e7a45476d",
    "pycharm": {
     "name": "#%%\n"
    }
   },
   "outputs": [
    {
     "data": {
      "image/png": "[encoded data removed]",
      "text/plain": [
       "<Figure size 1080x360 with 2 Axes>"
      ]
     },
     "metadata": {
      "needs_background": "light"
     },
     "output_type": "display_data"
    }
   ],
   "source": [
    "plot_accuracy_curves(history)"
   ]
  },
  {
   "cell_type": "code",
   "execution_count": null,
   "metadata": {
    "id": "1PQzpulVz3x_",
    "outputId": "bc0a496b-cf04-4c70-eacd-f092fc93561a",
    "pycharm": {
     "name": "#%%\n"
    }
   },
   "outputs": [
    {
     "data": {
      "image/png": "[encoded data removed]",
      "text/plain": [
       "<Figure size 1080x360 with 2 Axes>"
      ]
     },
     "metadata": {
      "needs_background": "light"
     },
     "output_type": "display_data"
    }
   ],
   "source": [
    "plot_loss_curves(history)"
   ]
  },
  {
   "cell_type": "markdown",
   "metadata": {
    "id": "o4Y-Qs33XH_G",
    "pycharm": {
     "name": "#%% md\n"
    }
   },
   "source": [
    "### Test [4 points]\n",
    "Following your analysis, report the confusion matrix for the best model you obtained (with the criteria you defined). Then, report the accuracy, precision, recall and $F_1$ score for the best model. In all of the metrics, use macro averaging."
   ]
  },
  {
   "cell_type": "markdown",
   "metadata": {
    "id": "xTJ4qAG0z3x_",
    "pycharm": {
     "name": "#%% md\n"
    }
   },
   "source": [
    "**Please check the \"Helper functions\" subsection above. The evaluation script is implemented there.**"
   ]
  },
  {
   "cell_type": "code",
   "execution_count": null,
   "metadata": {
    "id": "bsZbLlOD5SvJ",
    "pycharm": {
     "name": "#%%\n"
    }
   },
   "outputs": [],
   "source": [
    "best_model = get_best_model(load_resnet18, 'resnet').to(device)"
   ]
  },
  {
   "cell_type": "code",
   "execution_count": null,
   "metadata": {
    "id": "ER1GqVEfz3x_",
    "pycharm": {
     "name": "#%%\n"
    }
   },
   "outputs": [],
   "source": [
    "loss, accuracy, precision, recall, f1, cm = evaluate(best_model, test_dataset)"
   ]
  },
  {
   "cell_type": "code",
   "execution_count": null,
   "metadata": {
    "id": "UQm17Ryuz3x_",
    "outputId": "42737b31-2698-4780-90ae-82af767c6e0e",
    "pycharm": {
     "name": "#%%\n"
    }
   },
   "outputs": [
    {
     "data": {
      "image/png": "[encoded data removed]",
      "text/plain": [
       "<Figure size 432x288 with 2 Axes>"
      ]
     },
     "metadata": {
      "needs_background": "light"
     },
     "output_type": "display_data"
    }
   ],
   "source": [
    "plot_confusion_matrix(cm)"
   ]
  },
  {
   "cell_type": "code",
   "execution_count": null,
   "metadata": {
    "id": "C3KzlHpZz3yA",
    "outputId": "1fe9d336-d544-4558-a33f-eb1948293064",
    "pycharm": {
     "name": "#%%\n"
    }
   },
   "outputs": [
    {
     "name": "stdout",
     "output_type": "stream",
     "text": [
      "╒═══════════╤══════════╕\n",
      "│ Metric    │    Score │\n",
      "╞═══════════╪══════════╡\n",
      "│ Loss      │ 0.210006 │\n",
      "├───────────┼──────────┤\n",
      "│ Accuracy  │ 0.927113 │\n",
      "├───────────┼──────────┤\n",
      "│ Precision │ 0.930699 │\n",
      "├───────────┼──────────┤\n",
      "│ Recall    │ 0.927113 │\n",
      "├───────────┼──────────┤\n",
      "│ F1        │ 0.928692 │\n",
      "╘═══════════╧══════════╛\n"
     ]
    }
   ],
   "source": [
    "show_results(loss, accuracy, precision, recall, f1)"
   ]
  },
  {
   "cell_type": "markdown",
   "metadata": {
    "id": "47uwNm3NmJDB",
    "pycharm": {
     "name": "#%% md\n"
    }
   },
   "source": [
    "### Discussion [3 points]\n",
    "Now discuss the effectiveness of Transfer Learning. How does it improve performance?  "
   ]
  },
  {
   "cell_type": "markdown",
   "metadata": {
    "id": "YR1MdDipz3yA",
    "pycharm": {
     "name": "#%% md\n"
    }
   },
   "source": [
    "**The convolutional layers extract features from the images. Transfer learning assumes that the extracted features for a task also work for other tasks. Here, we transferred the weights trained on the ImageNet dataset and used those weights on our tasks. We can see that the extracted features works well for this task and the model outperforms the other two models.**"
   ]
  },
  {
   "cell_type": "markdown",
   "metadata": {
    "id": "23y1QPvOVDIF",
    "pycharm": {
     "name": "#%% md\n"
    }
   },
   "source": [
    "# References\n",
    "[1] Ajayi, Gbeminiyi (2018), “Multi-class Weather Dataset for Image Classification”, Mendeley Data, V1, doi: 10.17632/4drtyfjtfy.1"
   ]
  }
 ],
 "metadata": {
  "accelerator": "GPU",
  "colab": {
   "provenance": []
  },
  "kernelspec": {
   "display_name": "Python 3 (ipykernel)",
   "language": "python",
   "name": "python3"
  },
  "language_info": {
   "codemirror_mode": {
    "name": "ipython",
    "version": 3
   },
   "file_extension": ".py",
   "mimetype": "text/x-python",
   "name": "python",
   "nbconvert_exporter": "python",
   "pygments_lexer": "ipython3",
   "version": "3.8.8"
  }
 },
 "nbformat": 4,
 "nbformat_minor": 1
}
